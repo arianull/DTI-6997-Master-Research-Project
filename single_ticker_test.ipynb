{
 "cells": [
  {
   "cell_type": "code",
   "execution_count": 1,
   "metadata": {},
   "outputs": [],
   "source": [
    "import os\n",
    "import pandas as pd\n",
    "import numpy as np\n",
    "from yahoo_fin import news\n",
    "from finvizfinance.quote import finvizfinance\n",
    "from openai import OpenAI\n",
    "from loguru import logger\n",
    "import argparse\n",
    "import datetime\n",
    "\n",
    "\n",
    "def get_latest_news(ticker: str, source: str = 'yf') -> list:\n",
    "    \"\"\"\n",
    "    Fetches the latest news for a given stock ticker using either the yahoo_fin or finviz library.\n",
    "    \n",
    "    :param ticker: The stock ticker symbol.\n",
    "    :param source: The news source to fetch from. Options are 'yf' for yahoo_fin and 'finviz' for finvizfinance.\n",
    "                   Default value is 'yf'.\n",
    "    :return: A list of latest news articles with their titles and URLs.\n",
    "    \"\"\"\n",
    "    news_list = []\n",
    "    try:\n",
    "        if source == 'yf':\n",
    "            logger.info(f'Fetching latest news for {ticker} from Yahoo! Finance')\n",
    "            news_data = news.get_yf_rss(ticker)\n",
    "            for article in news_data:\n",
    "                news_list.append({\n",
    "                    \"ticker\": ticker,\n",
    "                    \"title\": article[\"title\"],\n",
    "                    \"summary\": article[\"summary\"],\n",
    "                    \"url\": article[\"link\"],\n",
    "                    \"time\": article[\"published\"]\n",
    "                })\n",
    "        elif source == 'finviz':\n",
    "            logger.info(f'Fetching latest news for {ticker} from Finviz')\n",
    "            news_data = finvizfinance(ticker).ticker_news()\n",
    "            news_list = []\n",
    "            for index, row in news_data.iterrows():\n",
    "                news_list.append({\n",
    "                    \"ticker\": ticker,\n",
    "                    \"title\": row[\"Title\"],\n",
    "                    \"summary\": None,\n",
    "                    \"url\": row[\"Link\"],\n",
    "                    \"time\": row[\"Date\"]\n",
    "                })\n",
    "        else:\n",
    "            raise ValueError(\"Invalid news source. Please choose either 'yf' or 'finviz'.\")\n",
    "        \n",
    "        return news_list\n",
    "\n",
    "    except Exception as e:\n",
    "        logger.error(f\"An error occurred: {e}\")\n",
    "\n",
    "\n",
    "def get_gpt_embeddings(client, text: str, model: str = \"text-embedding-ada-002\", mock: bool = False):\n",
    "    \"\"\"\n",
    "    Get embeddings for a given text using OpenAI API.\n",
    "    \n",
    "    Args:\n",
    "        client (object): OpenAI client object.\n",
    "        text (str): The text to get embeddings for.\n",
    "        model (str): The embedding model to use (default is \"text-embedding-ada-002\").\n",
    "        mock (bool): If True, return a mock embedding with shape of 100 and all 0 values.\n",
    "    \n",
    "    Returns:\n",
    "        list: The embeddings for the given text.\n",
    "    \"\"\"\n",
    "    if mock:\n",
    "        return [0] * 100\n",
    "    \n",
    "    if text:\n",
    "        text = text.replace(\"\\n\", \" \")\n",
    "        try:\n",
    "            response = client.embeddings.create(\n",
    "                input=[text],\n",
    "                model=model\n",
    "            )\n",
    "            return response.data[0].embedding\n",
    "        \n",
    "        except Exception as e:\n",
    "            logger.error(f\"An error occurred: {e}\")\n",
    "            return None\n",
    "    else:\n",
    "        return None\n"
   ]
  },
  {
   "cell_type": "code",
   "execution_count": 2,
   "metadata": {},
   "outputs": [
    {
     "name": "stderr",
     "output_type": "stream",
     "text": [
      "\u001b[32m2024-08-13 18:35:15.953\u001b[0m | \u001b[32m\u001b[1mSUCCESS \u001b[0m | \u001b[36m__main__\u001b[0m:\u001b[36m<module>\u001b[0m:\u001b[36m3\u001b[0m - \u001b[32m\u001b[1mOpenAI client connected\u001b[0m\n",
      "\u001b[32m2024-08-13 18:35:15.954\u001b[0m | \u001b[1mINFO    \u001b[0m | \u001b[36m__main__\u001b[0m:\u001b[36m<module>\u001b[0m:\u001b[36m4\u001b[0m - \u001b[1mGenerating embeddings for last news using ada from OpenAI\u001b[0m\n"
     ]
    }
   ],
   "source": [
    "\n",
    "os.environ['OPENAI_API_KEY'] = ''\n",
    "client = OpenAI()\n",
    "logger.success(\"OpenAI client connected\")\n",
    "logger.info(f'Generating embeddings for last news using ada from OpenAI')\n",
    "\n"
   ]
  },
  {
   "cell_type": "code",
   "execution_count": 3,
   "metadata": {},
   "outputs": [
    {
     "name": "stderr",
     "output_type": "stream",
     "text": [
      "\u001b[32m2024-08-13 18:35:16.608\u001b[0m | \u001b[1mINFO    \u001b[0m | \u001b[36m__main__\u001b[0m:\u001b[36mget_latest_news\u001b[0m:\u001b[36m24\u001b[0m - \u001b[1mFetching latest news for SYRS from Yahoo! Finance\u001b[0m\n"
     ]
    }
   ],
   "source": [
    "ticker = 'SYRS'\n",
    "news = get_latest_news(ticker, source='yf')"
   ]
  },
  {
   "cell_type": "code",
   "execution_count": 4,
   "metadata": {},
   "outputs": [
    {
     "data": {
      "text/plain": [
       "ticker                                                  SYRS\n",
       "title      Cancer-Focused Syros Pharmaceuticals Stops Mid...\n",
       "summary    Syros Pharmaceuticals Inc. (NASDAQ:SYRS) stock...\n",
       "url        https://finance.yahoo.com/news/cancer-focused-...\n",
       "time                         Tue, 13 Aug 2024 13:41:17 +0000\n",
       "Name: 1, dtype: object"
      ]
     },
     "execution_count": 4,
     "metadata": {},
     "output_type": "execute_result"
    }
   ],
   "source": [
    "news_df = pd.DataFrame(news)\n",
    "news_df.iloc[1]"
   ]
  },
  {
   "cell_type": "code",
   "execution_count": 5,
   "metadata": {},
   "outputs": [
    {
     "data": {
      "text/plain": [
       "'Syros Pharmaceuticals Inc. (NASDAQ:SYRS) stock is trading lower on Tuesday after the company issued an update on the SELECT-AML-1 Phase 2 trial. The company announced that it will discontinue enrollment in the SELECT-AML-1 Phase 2 trial evaluating the triplet regimen of tamibarotene in combination with venetoclax and azacitidine compared to the doublet regimen of venetoclax and azacitidine in newly diagnosed, unfit patients with acute myeloid leukemia (AML) and RARA gene overexpression. AbbVie I'"
      ]
     },
     "execution_count": 5,
     "metadata": {},
     "output_type": "execute_result"
    }
   ],
   "source": [
    "news_ready = news[1]['summary']\n",
    "news_ready"
   ]
  },
  {
   "cell_type": "code",
   "execution_count": 6,
   "metadata": {},
   "outputs": [],
   "source": [
    "embedding = get_gpt_embeddings(client, news_ready, model='text-embedding-ada-002')"
   ]
  },
  {
   "cell_type": "code",
   "execution_count": 7,
   "metadata": {},
   "outputs": [
    {
     "name": "stdout",
     "output_type": "stream",
     "text": [
      "(1, 1536)\n"
     ]
    }
   ],
   "source": [
    "embedding = np.array(embedding).reshape(1, -1)\n",
    "print(embedding.shape)"
   ]
  },
  {
   "cell_type": "code",
   "execution_count": 8,
   "metadata": {},
   "outputs": [
    {
     "name": "stderr",
     "output_type": "stream",
     "text": [
      "2024-08-13 18:36:24.870182: I tensorflow/core/platform/cpu_feature_guard.cc:210] This TensorFlow binary is optimized to use available CPU instructions in performance-critical operations.\n",
      "To enable the following instructions: AVX2 FMA, in other operations, rebuild TensorFlow with the appropriate compiler flags.\n"
     ]
    }
   ],
   "source": [
    "from tensorflow.keras.models import load_model\n",
    "\n",
    "inference_model = load_model('data/inference/in/input/feedforward.keras')"
   ]
  },
  {
   "cell_type": "code",
   "execution_count": 9,
   "metadata": {},
   "outputs": [
    {
     "data": {
      "text/plain": [
       "(None, 1536)"
      ]
     },
     "execution_count": 9,
     "metadata": {},
     "output_type": "execute_result"
    }
   ],
   "source": [
    "inference_model.input_shape"
   ]
  },
  {
   "cell_type": "code",
   "execution_count": 10,
   "metadata": {},
   "outputs": [
    {
     "name": "stderr",
     "output_type": "stream",
     "text": [
      "WARNING: All log messages before absl::InitializeLog() is called are written to STDERR\n",
      "I0000 00:00:1723588609.904492  599913 service.cc:145] XLA service 0x7fbe05ece520 initialized for platform Host (this does not guarantee that XLA will be used). Devices:\n",
      "I0000 00:00:1723588609.904548  599913 service.cc:153]   StreamExecutor device (0): Host, Default Version\n",
      "2024-08-13 18:36:49.905059: I tensorflow/core/platform/cpu_feature_guard.cc:210] This TensorFlow binary is optimized to use available CPU instructions in performance-critical operations.\n",
      "To enable the following instructions: AVX2 FMA, in other operations, rebuild TensorFlow with the appropriate compiler flags.\n",
      "2024-08-13 18:36:49.918665: I tensorflow/compiler/mlir/tensorflow/utils/dump_mlir_util.cc:268] disabling MLIR crash reproducer, set env var `MLIR_CRASH_REPRODUCER_DIRECTORY` to enable.\n"
     ]
    },
    {
     "name": "stdout",
     "output_type": "stream",
     "text": [
      "\u001b[1m1/1\u001b[0m \u001b[32m━━━━━━━━━━━━━━━━━━━━\u001b[0m\u001b[37m\u001b[0m \u001b[1m1s\u001b[0m 925ms/step\n"
     ]
    },
    {
     "name": "stderr",
     "output_type": "stream",
     "text": [
      "I0000 00:00:1723588610.449455  599913 device_compiler.h:188] Compiled cluster using XLA!  This line is logged at most once for the lifetime of the process.\n"
     ]
    },
    {
     "data": {
      "text/plain": [
       "array([[0.52878493, 0.5355394 , 0.5704622 , 0.5545112 , 0.5535886 ,\n",
       "        0.55041087, 0.5709983 ]], dtype=float32)"
      ]
     },
     "execution_count": 10,
     "metadata": {},
     "output_type": "execute_result"
    }
   ],
   "source": [
    "\n",
    "prediction = inference_model.predict(embedding)\n",
    "\n",
    "prediction"
   ]
  },
  {
   "cell_type": "code",
   "execution_count": 11,
   "metadata": {},
   "outputs": [
    {
     "data": {
      "text/plain": [
       "(1, 1536)"
      ]
     },
     "execution_count": 11,
     "metadata": {},
     "output_type": "execute_result"
    }
   ],
   "source": [
    "embedding.shape"
   ]
  },
  {
   "cell_type": "code",
   "execution_count": 12,
   "metadata": {},
   "outputs": [
    {
     "name": "stdout",
     "output_type": "stream",
     "text": [
      "2.16.2\n"
     ]
    }
   ],
   "source": [
    "import tensorflow as tf\n",
    "print(tf.__version__)"
   ]
  },
  {
   "cell_type": "code",
   "execution_count": null,
   "metadata": {},
   "outputs": [],
   "source": []
  }
 ],
 "metadata": {
  "kernelspec": {
   "display_name": "Python 3",
   "language": "python",
   "name": "python3"
  },
  "language_info": {
   "codemirror_mode": {
    "name": "ipython",
    "version": 3
   },
   "file_extension": ".py",
   "mimetype": "text/x-python",
   "name": "python",
   "nbconvert_exporter": "python",
   "pygments_lexer": "ipython3",
   "version": "3.12.2"
  }
 },
 "nbformat": 4,
 "nbformat_minor": 2
}
