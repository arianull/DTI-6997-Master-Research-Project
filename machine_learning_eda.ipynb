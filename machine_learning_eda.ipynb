{
  "cells": [
    {
      "cell_type": "code",
      "execution_count": 1,
      "metadata": {
        "id": "luxNm99JAQpl"
      },
      "outputs": [],
      "source": [
        "import pandas as pd\n",
        "import numpy as np\n",
        "import datetime\n",
        "from sklearn.svm import SVC\n",
        "from sklearn.ensemble import RandomForestClassifier\n",
        "from sklearn.decomposition import PCA\n",
        "from sklearn.model_selection import GridSearchCV\n",
        "#!pip install umap-learn\n",
        "#import umap\n",
        "from xgboost import XGBClassifier\n",
        "from tensorflow.keras.models import Sequential\n",
        "from tensorflow.keras.layers import Dense, Dropout, Activation, LSTM, BatchNormalization\n",
        "from tensorflow.keras.regularizers import l2\n",
        "from tensorflow.keras.utils import to_categorical\n",
        "from sklearn.preprocessing import LabelEncoder\n",
        "from sklearn.metrics import accuracy_score, classification_report\n",
        "\n",
        "import matplotlib.pyplot as plt\n",
        "from sklearn.metrics import precision_recall_curve, f1_score"
      ]
    },
    {
      "cell_type": "code",
      "source": [
        "from google.colab import drive\n",
        "drive.mount('/content/drive')"
      ],
      "metadata": {
        "colab": {
          "base_uri": "https://localhost:8080/"
        },
        "id": "oqoU6X2scWrE",
        "outputId": "8a08ba59-915f-4b98-adf6-1547b3ff4033"
      },
      "execution_count": 4,
      "outputs": [
        {
          "output_type": "stream",
          "name": "stdout",
          "text": [
            "Mounted at /content/drive\n"
          ]
        }
      ]
    },
    {
      "cell_type": "code",
      "execution_count": 5,
      "metadata": {
        "id": "MOvXTHZgAQpn"
      },
      "outputs": [],
      "source": [
        "price_df = pd.read_csv('/content/drive/MyDrive/filtered_price.csv')\n",
        "news_df = pd.read_csv('/content/drive/MyDrive/price_news_return_embedding.csv')"
      ]
    },
    {
      "cell_type": "code",
      "execution_count": 6,
      "metadata": {
        "id": "gUSNYq7MAQpo"
      },
      "outputs": [],
      "source": [
        "news_df['1_day_return_positive'] = news_df['1_day_return'].apply(lambda x: 1 if x > 0 else 0)\n",
        "news_df['2_day_return_positive'] = news_df['2_day_return'].apply(lambda x: 1 if x > 0 else 0)\n",
        "news_df['3_day_return_positive'] = news_df['3_day_return'].apply(lambda x: 1 if x > 0 else 0)\n",
        "news_df['4_day_return_positive'] = news_df['4_day_return'].apply(lambda x: 1 if x > 0 else 0)\n",
        "news_df['7_day_return_positive'] = news_df['7_day_return'].apply(lambda x: 1 if x > 0 else 0)\n",
        "news_df['10_day_return_positive'] = news_df['10_day_return'].apply(lambda x: 1 if x > 0 else 0)\n",
        "news_df['30_day_return_positive'] = news_df['30_day_return'].apply(lambda x: 1 if x > 0 else 0)"
      ]
    },
    {
      "cell_type": "code",
      "source": [
        "news_df"
      ],
      "metadata": {
        "colab": {
          "base_uri": "https://localhost:8080/",
          "height": 1000
        },
        "id": "Lt1-i7huoLwn",
        "outputId": "ac244b72-9fd4-49b0-bc04-e1185175590d"
      },
      "execution_count": 7,
      "outputs": [
        {
          "output_type": "execute_result",
          "data": {
            "text/plain": [
              "            Date Ticker        Open        High         Low       Close  \\\n",
              "0     2020-05-29   CSCO   41.665731   43.276611   41.095586   43.276611   \n",
              "1     2020-05-29    JWN   15.714695   15.826675   14.930826   15.052138   \n",
              "2     2020-05-29     KO   42.223438   42.684747   41.734991   42.223438   \n",
              "3     2020-05-29      V  190.180375  192.370633  188.987469  190.903946   \n",
              "4     2020-05-29   AAPL   78.254387   78.720112   77.572955   77.933281   \n",
              "...          ...    ...         ...         ...         ...         ...   \n",
              "8790  2015-06-02    HLT   56.787502   57.099843   56.631330   56.982716   \n",
              "8791  2015-06-01    HLT   56.807024   57.216972   56.611811   56.943672   \n",
              "8792  2015-06-01    MAR   72.173422   72.681038   71.398161   71.961151   \n",
              "8793  2015-06-01     CL   54.954373   55.292126   54.666051   55.110893   \n",
              "8794  2015-06-01    AEO   13.143777   13.191863   12.911357   13.007530   \n",
              "\n",
              "           Volume                                        Latest_News  \\\n",
              "0      43553600.0             Stocks to Buy in a Post-Pandemic World   \n",
              "1      25072100.0  Nordstrom (JWN) Q1 Loss Wider Than Expected, S...   \n",
              "2      51125000.0  Learning from Warren Buffett's Decision to Buy...   \n",
              "3      10211900.0  8 Stocks Viking Global Investors Continues to Buy   \n",
              "4     153532400.0  DXC Technology (DXC) Q4 Earnings Top Estimates...   \n",
              "...           ...                                                ...   \n",
              "8790    2869981.0          Hilton Worldwide building out Curio brand   \n",
              "8791    3460136.0  Timeshares Trend: How Marriott Vacations Revam...   \n",
              "8792    1928200.0          Fitch ratings weighs in on lodging sector   \n",
              "8793    3447100.0     Dividend, Yield, And Price: Inseparably Linked   \n",
              "8794    4103900.0  Genesco Misses on Q1 Earnings & Revenues; Lowe...   \n",
              "\n",
              "                                      Concatenated_News  1_day_return  ...  \\\n",
              "0     Stocks to Buy in a Post-Pandemic World - US In...     -0.032829  ...   \n",
              "1     Nordstrom (JWN) Q1 Loss Wider Than Expected, S...      0.027728  ...   \n",
              "2     Learning from Warren Buffett's Decision to Buy...      0.006597  ...   \n",
              "3     8 Stocks Viking Global Investors Continues to Buy     -0.004579  ...   \n",
              "4     DXC Technology (DXC) Q4 Earnings Top Estimates...      0.012148  ...   \n",
              "...                                                 ...           ...  ...   \n",
              "8790          Hilton Worldwide building out Curio brand      0.003414  ...   \n",
              "8791  Timeshares Trend: How Marriott Vacations Revam...      0.000685  ...   \n",
              "8792  Fitch ratings weighs in on lodging sector - Ti...      0.005865  ...   \n",
              "8793     Dividend, Yield, And Price: Inseparably Linked     -0.002548  ...   \n",
              "8794  Genesco Misses on Q1 Earnings & Revenues; Lowe...      0.000616  ...   \n",
              "\n",
              "      30_day_return                        Concatenated_News_Embedding  \\\n",
              "0         -0.033012  [0.001997282262891531, -0.018077492713928223, ...   \n",
              "1         -0.050814  [-0.032860055565834045, -0.036573056131601334,...   \n",
              "2         -0.022314  [-0.007852538488805294, -0.015758998692035675,...   \n",
              "3         -0.032907  [-0.02816659025847912, -0.03834887966513634, 0...   \n",
              "4          0.167500  [-0.015577776357531548, -0.005795145407319069,...   \n",
              "...             ...                                                ...   \n",
              "8790      -0.037314  [-0.003722486784681678, 0.005681690294295549, ...   \n",
              "8791      -0.027837  [0.006758211646229029, -0.001204228145070374, ...   \n",
              "8792      -0.009190  [0.008254693821072578, -4.126824478589697e-06,...   \n",
              "8793       0.005500  [-0.02472446858882904, -0.021279681473970413, ...   \n",
              "8794       0.115201  [-0.029227271676063538, -0.022759385406970978,...   \n",
              "\n",
              "                                  Latest_News_Embedding  \\\n",
              "0     [0.011239121668040752, -0.02143305167555809, -...   \n",
              "1     [-0.032860055565834045, -0.036573056131601334,...   \n",
              "2     [-0.007852538488805294, -0.015758998692035675,...   \n",
              "3     [-0.02816659025847912, -0.03834887966513634, 0...   \n",
              "4     [-0.013864366337656975, -0.014639061875641346,...   \n",
              "...                                                 ...   \n",
              "8790  [-0.003722486784681678, 0.005681690294295549, ...   \n",
              "8791  [-0.008595649152994156, -0.0059041185304522514...   \n",
              "8792  [0.019749974831938744, 0.00014178613491822034,...   \n",
              "8793  [-0.02472446858882904, -0.021279681473970413, ...   \n",
              "8794  [-0.018616631627082825, -0.009844936430454254,...   \n",
              "\n",
              "      1_day_return_positive  2_day_return_positive  3_day_return_positive  \\\n",
              "0                         0                      0                      0   \n",
              "1                         1                      1                      1   \n",
              "2                         1                      1                      1   \n",
              "3                         0                      1                      1   \n",
              "4                         1                      1                      1   \n",
              "...                     ...                    ...                    ...   \n",
              "8790                      1                      1                      1   \n",
              "8791                      1                      1                      1   \n",
              "8792                      1                      1                      1   \n",
              "8793                      0                      0                      0   \n",
              "8794                      1                      1                      1   \n",
              "\n",
              "     4_day_return_positive 7_day_return_positive  10_day_return_positive  \\\n",
              "0                        0                     1                       0   \n",
              "1                        1                     1                       1   \n",
              "2                        1                     1                       0   \n",
              "3                        0                     1                       0   \n",
              "4                        1                     1                       1   \n",
              "...                    ...                   ...                     ...   \n",
              "8790                     0                     0                       0   \n",
              "8791                     1                     0                       0   \n",
              "8792                     1                     0                       0   \n",
              "8793                     0                     1                       0   \n",
              "8794                     1                     1                       1   \n",
              "\n",
              "      30_day_return_positive  \n",
              "0                          0  \n",
              "1                          0  \n",
              "2                          0  \n",
              "3                          0  \n",
              "4                          1  \n",
              "...                      ...  \n",
              "8790                       0  \n",
              "8791                       0  \n",
              "8792                       0  \n",
              "8793                       1  \n",
              "8794                       1  \n",
              "\n",
              "[8795 rows x 25 columns]"
            ],
            "text/html": [
              "\n",
              "  <div id=\"df-d160e65d-a3bc-477b-a2de-a791b549d62c\" class=\"colab-df-container\">\n",
              "    <div>\n",
              "<style scoped>\n",
              "    .dataframe tbody tr th:only-of-type {\n",
              "        vertical-align: middle;\n",
              "    }\n",
              "\n",
              "    .dataframe tbody tr th {\n",
              "        vertical-align: top;\n",
              "    }\n",
              "\n",
              "    .dataframe thead th {\n",
              "        text-align: right;\n",
              "    }\n",
              "</style>\n",
              "<table border=\"1\" class=\"dataframe\">\n",
              "  <thead>\n",
              "    <tr style=\"text-align: right;\">\n",
              "      <th></th>\n",
              "      <th>Date</th>\n",
              "      <th>Ticker</th>\n",
              "      <th>Open</th>\n",
              "      <th>High</th>\n",
              "      <th>Low</th>\n",
              "      <th>Close</th>\n",
              "      <th>Volume</th>\n",
              "      <th>Latest_News</th>\n",
              "      <th>Concatenated_News</th>\n",
              "      <th>1_day_return</th>\n",
              "      <th>...</th>\n",
              "      <th>30_day_return</th>\n",
              "      <th>Concatenated_News_Embedding</th>\n",
              "      <th>Latest_News_Embedding</th>\n",
              "      <th>1_day_return_positive</th>\n",
              "      <th>2_day_return_positive</th>\n",
              "      <th>3_day_return_positive</th>\n",
              "      <th>4_day_return_positive</th>\n",
              "      <th>7_day_return_positive</th>\n",
              "      <th>10_day_return_positive</th>\n",
              "      <th>30_day_return_positive</th>\n",
              "    </tr>\n",
              "  </thead>\n",
              "  <tbody>\n",
              "    <tr>\n",
              "      <th>0</th>\n",
              "      <td>2020-05-29</td>\n",
              "      <td>CSCO</td>\n",
              "      <td>41.665731</td>\n",
              "      <td>43.276611</td>\n",
              "      <td>41.095586</td>\n",
              "      <td>43.276611</td>\n",
              "      <td>43553600.0</td>\n",
              "      <td>Stocks to Buy in a Post-Pandemic World</td>\n",
              "      <td>Stocks to Buy in a Post-Pandemic World - US In...</td>\n",
              "      <td>-0.032829</td>\n",
              "      <td>...</td>\n",
              "      <td>-0.033012</td>\n",
              "      <td>[0.001997282262891531, -0.018077492713928223, ...</td>\n",
              "      <td>[0.011239121668040752, -0.02143305167555809, -...</td>\n",
              "      <td>0</td>\n",
              "      <td>0</td>\n",
              "      <td>0</td>\n",
              "      <td>0</td>\n",
              "      <td>1</td>\n",
              "      <td>0</td>\n",
              "      <td>0</td>\n",
              "    </tr>\n",
              "    <tr>\n",
              "      <th>1</th>\n",
              "      <td>2020-05-29</td>\n",
              "      <td>JWN</td>\n",
              "      <td>15.714695</td>\n",
              "      <td>15.826675</td>\n",
              "      <td>14.930826</td>\n",
              "      <td>15.052138</td>\n",
              "      <td>25072100.0</td>\n",
              "      <td>Nordstrom (JWN) Q1 Loss Wider Than Expected, S...</td>\n",
              "      <td>Nordstrom (JWN) Q1 Loss Wider Than Expected, S...</td>\n",
              "      <td>0.027728</td>\n",
              "      <td>...</td>\n",
              "      <td>-0.050814</td>\n",
              "      <td>[-0.032860055565834045, -0.036573056131601334,...</td>\n",
              "      <td>[-0.032860055565834045, -0.036573056131601334,...</td>\n",
              "      <td>1</td>\n",
              "      <td>1</td>\n",
              "      <td>1</td>\n",
              "      <td>1</td>\n",
              "      <td>1</td>\n",
              "      <td>1</td>\n",
              "      <td>0</td>\n",
              "    </tr>\n",
              "    <tr>\n",
              "      <th>2</th>\n",
              "      <td>2020-05-29</td>\n",
              "      <td>KO</td>\n",
              "      <td>42.223438</td>\n",
              "      <td>42.684747</td>\n",
              "      <td>41.734991</td>\n",
              "      <td>42.223438</td>\n",
              "      <td>51125000.0</td>\n",
              "      <td>Learning from Warren Buffett's Decision to Buy...</td>\n",
              "      <td>Learning from Warren Buffett's Decision to Buy...</td>\n",
              "      <td>0.006597</td>\n",
              "      <td>...</td>\n",
              "      <td>-0.022314</td>\n",
              "      <td>[-0.007852538488805294, -0.015758998692035675,...</td>\n",
              "      <td>[-0.007852538488805294, -0.015758998692035675,...</td>\n",
              "      <td>1</td>\n",
              "      <td>1</td>\n",
              "      <td>1</td>\n",
              "      <td>1</td>\n",
              "      <td>1</td>\n",
              "      <td>0</td>\n",
              "      <td>0</td>\n",
              "    </tr>\n",
              "    <tr>\n",
              "      <th>3</th>\n",
              "      <td>2020-05-29</td>\n",
              "      <td>V</td>\n",
              "      <td>190.180375</td>\n",
              "      <td>192.370633</td>\n",
              "      <td>188.987469</td>\n",
              "      <td>190.903946</td>\n",
              "      <td>10211900.0</td>\n",
              "      <td>8 Stocks Viking Global Investors Continues to Buy</td>\n",
              "      <td>8 Stocks Viking Global Investors Continues to Buy</td>\n",
              "      <td>-0.004579</td>\n",
              "      <td>...</td>\n",
              "      <td>-0.032907</td>\n",
              "      <td>[-0.02816659025847912, -0.03834887966513634, 0...</td>\n",
              "      <td>[-0.02816659025847912, -0.03834887966513634, 0...</td>\n",
              "      <td>0</td>\n",
              "      <td>1</td>\n",
              "      <td>1</td>\n",
              "      <td>0</td>\n",
              "      <td>1</td>\n",
              "      <td>0</td>\n",
              "      <td>0</td>\n",
              "    </tr>\n",
              "    <tr>\n",
              "      <th>4</th>\n",
              "      <td>2020-05-29</td>\n",
              "      <td>AAPL</td>\n",
              "      <td>78.254387</td>\n",
              "      <td>78.720112</td>\n",
              "      <td>77.572955</td>\n",
              "      <td>77.933281</td>\n",
              "      <td>153532400.0</td>\n",
              "      <td>DXC Technology (DXC) Q4 Earnings Top Estimates...</td>\n",
              "      <td>DXC Technology (DXC) Q4 Earnings Top Estimates...</td>\n",
              "      <td>0.012148</td>\n",
              "      <td>...</td>\n",
              "      <td>0.167500</td>\n",
              "      <td>[-0.015577776357531548, -0.005795145407319069,...</td>\n",
              "      <td>[-0.013864366337656975, -0.014639061875641346,...</td>\n",
              "      <td>1</td>\n",
              "      <td>1</td>\n",
              "      <td>1</td>\n",
              "      <td>1</td>\n",
              "      <td>1</td>\n",
              "      <td>1</td>\n",
              "      <td>1</td>\n",
              "    </tr>\n",
              "    <tr>\n",
              "      <th>...</th>\n",
              "      <td>...</td>\n",
              "      <td>...</td>\n",
              "      <td>...</td>\n",
              "      <td>...</td>\n",
              "      <td>...</td>\n",
              "      <td>...</td>\n",
              "      <td>...</td>\n",
              "      <td>...</td>\n",
              "      <td>...</td>\n",
              "      <td>...</td>\n",
              "      <td>...</td>\n",
              "      <td>...</td>\n",
              "      <td>...</td>\n",
              "      <td>...</td>\n",
              "      <td>...</td>\n",
              "      <td>...</td>\n",
              "      <td>...</td>\n",
              "      <td>...</td>\n",
              "      <td>...</td>\n",
              "      <td>...</td>\n",
              "      <td>...</td>\n",
              "    </tr>\n",
              "    <tr>\n",
              "      <th>8790</th>\n",
              "      <td>2015-06-02</td>\n",
              "      <td>HLT</td>\n",
              "      <td>56.787502</td>\n",
              "      <td>57.099843</td>\n",
              "      <td>56.631330</td>\n",
              "      <td>56.982716</td>\n",
              "      <td>2869981.0</td>\n",
              "      <td>Hilton Worldwide building out Curio brand</td>\n",
              "      <td>Hilton Worldwide building out Curio brand</td>\n",
              "      <td>0.003414</td>\n",
              "      <td>...</td>\n",
              "      <td>-0.037314</td>\n",
              "      <td>[-0.003722486784681678, 0.005681690294295549, ...</td>\n",
              "      <td>[-0.003722486784681678, 0.005681690294295549, ...</td>\n",
              "      <td>1</td>\n",
              "      <td>1</td>\n",
              "      <td>1</td>\n",
              "      <td>0</td>\n",
              "      <td>0</td>\n",
              "      <td>0</td>\n",
              "      <td>0</td>\n",
              "    </tr>\n",
              "    <tr>\n",
              "      <th>8791</th>\n",
              "      <td>2015-06-01</td>\n",
              "      <td>HLT</td>\n",
              "      <td>56.807024</td>\n",
              "      <td>57.216972</td>\n",
              "      <td>56.611811</td>\n",
              "      <td>56.943672</td>\n",
              "      <td>3460136.0</td>\n",
              "      <td>Timeshares Trend: How Marriott Vacations Revam...</td>\n",
              "      <td>Timeshares Trend: How Marriott Vacations Revam...</td>\n",
              "      <td>0.000685</td>\n",
              "      <td>...</td>\n",
              "      <td>-0.027837</td>\n",
              "      <td>[0.006758211646229029, -0.001204228145070374, ...</td>\n",
              "      <td>[-0.008595649152994156, -0.0059041185304522514...</td>\n",
              "      <td>1</td>\n",
              "      <td>1</td>\n",
              "      <td>1</td>\n",
              "      <td>1</td>\n",
              "      <td>0</td>\n",
              "      <td>0</td>\n",
              "      <td>0</td>\n",
              "    </tr>\n",
              "    <tr>\n",
              "      <th>8792</th>\n",
              "      <td>2015-06-01</td>\n",
              "      <td>MAR</td>\n",
              "      <td>72.173422</td>\n",
              "      <td>72.681038</td>\n",
              "      <td>71.398161</td>\n",
              "      <td>71.961151</td>\n",
              "      <td>1928200.0</td>\n",
              "      <td>Fitch ratings weighs in on lodging sector</td>\n",
              "      <td>Fitch ratings weighs in on lodging sector - Ti...</td>\n",
              "      <td>0.005865</td>\n",
              "      <td>...</td>\n",
              "      <td>-0.009190</td>\n",
              "      <td>[0.008254693821072578, -4.126824478589697e-06,...</td>\n",
              "      <td>[0.019749974831938744, 0.00014178613491822034,...</td>\n",
              "      <td>1</td>\n",
              "      <td>1</td>\n",
              "      <td>1</td>\n",
              "      <td>1</td>\n",
              "      <td>0</td>\n",
              "      <td>0</td>\n",
              "      <td>0</td>\n",
              "    </tr>\n",
              "    <tr>\n",
              "      <th>8793</th>\n",
              "      <td>2015-06-01</td>\n",
              "      <td>CL</td>\n",
              "      <td>54.954373</td>\n",
              "      <td>55.292126</td>\n",
              "      <td>54.666051</td>\n",
              "      <td>55.110893</td>\n",
              "      <td>3447100.0</td>\n",
              "      <td>Dividend, Yield, And Price: Inseparably Linked</td>\n",
              "      <td>Dividend, Yield, And Price: Inseparably Linked</td>\n",
              "      <td>-0.002548</td>\n",
              "      <td>...</td>\n",
              "      <td>0.005500</td>\n",
              "      <td>[-0.02472446858882904, -0.021279681473970413, ...</td>\n",
              "      <td>[-0.02472446858882904, -0.021279681473970413, ...</td>\n",
              "      <td>0</td>\n",
              "      <td>0</td>\n",
              "      <td>0</td>\n",
              "      <td>0</td>\n",
              "      <td>1</td>\n",
              "      <td>0</td>\n",
              "      <td>1</td>\n",
              "    </tr>\n",
              "    <tr>\n",
              "      <th>8794</th>\n",
              "      <td>2015-06-01</td>\n",
              "      <td>AEO</td>\n",
              "      <td>13.143777</td>\n",
              "      <td>13.191863</td>\n",
              "      <td>12.911357</td>\n",
              "      <td>13.007530</td>\n",
              "      <td>4103900.0</td>\n",
              "      <td>Genesco Misses on Q1 Earnings &amp; Revenues; Lowe...</td>\n",
              "      <td>Genesco Misses on Q1 Earnings &amp; Revenues; Lowe...</td>\n",
              "      <td>0.000616</td>\n",
              "      <td>...</td>\n",
              "      <td>0.115201</td>\n",
              "      <td>[-0.029227271676063538, -0.022759385406970978,...</td>\n",
              "      <td>[-0.018616631627082825, -0.009844936430454254,...</td>\n",
              "      <td>1</td>\n",
              "      <td>1</td>\n",
              "      <td>1</td>\n",
              "      <td>1</td>\n",
              "      <td>1</td>\n",
              "      <td>1</td>\n",
              "      <td>1</td>\n",
              "    </tr>\n",
              "  </tbody>\n",
              "</table>\n",
              "<p>8795 rows × 25 columns</p>\n",
              "</div>\n",
              "    <div class=\"colab-df-buttons\">\n",
              "\n",
              "  <div class=\"colab-df-container\">\n",
              "    <button class=\"colab-df-convert\" onclick=\"convertToInteractive('df-d160e65d-a3bc-477b-a2de-a791b549d62c')\"\n",
              "            title=\"Convert this dataframe to an interactive table.\"\n",
              "            style=\"display:none;\">\n",
              "\n",
              "  <svg xmlns=\"http://www.w3.org/2000/svg\" height=\"24px\" viewBox=\"0 -960 960 960\">\n",
              "    <path d=\"M120-120v-720h720v720H120Zm60-500h600v-160H180v160Zm220 220h160v-160H400v160Zm0 220h160v-160H400v160ZM180-400h160v-160H180v160Zm440 0h160v-160H620v160ZM180-180h160v-160H180v160Zm440 0h160v-160H620v160Z\"/>\n",
              "  </svg>\n",
              "    </button>\n",
              "\n",
              "  <style>\n",
              "    .colab-df-container {\n",
              "      display:flex;\n",
              "      gap: 12px;\n",
              "    }\n",
              "\n",
              "    .colab-df-convert {\n",
              "      background-color: #E8F0FE;\n",
              "      border: none;\n",
              "      border-radius: 50%;\n",
              "      cursor: pointer;\n",
              "      display: none;\n",
              "      fill: #1967D2;\n",
              "      height: 32px;\n",
              "      padding: 0 0 0 0;\n",
              "      width: 32px;\n",
              "    }\n",
              "\n",
              "    .colab-df-convert:hover {\n",
              "      background-color: #E2EBFA;\n",
              "      box-shadow: 0px 1px 2px rgba(60, 64, 67, 0.3), 0px 1px 3px 1px rgba(60, 64, 67, 0.15);\n",
              "      fill: #174EA6;\n",
              "    }\n",
              "\n",
              "    .colab-df-buttons div {\n",
              "      margin-bottom: 4px;\n",
              "    }\n",
              "\n",
              "    [theme=dark] .colab-df-convert {\n",
              "      background-color: #3B4455;\n",
              "      fill: #D2E3FC;\n",
              "    }\n",
              "\n",
              "    [theme=dark] .colab-df-convert:hover {\n",
              "      background-color: #434B5C;\n",
              "      box-shadow: 0px 1px 3px 1px rgba(0, 0, 0, 0.15);\n",
              "      filter: drop-shadow(0px 1px 2px rgba(0, 0, 0, 0.3));\n",
              "      fill: #FFFFFF;\n",
              "    }\n",
              "  </style>\n",
              "\n",
              "    <script>\n",
              "      const buttonEl =\n",
              "        document.querySelector('#df-d160e65d-a3bc-477b-a2de-a791b549d62c button.colab-df-convert');\n",
              "      buttonEl.style.display =\n",
              "        google.colab.kernel.accessAllowed ? 'block' : 'none';\n",
              "\n",
              "      async function convertToInteractive(key) {\n",
              "        const element = document.querySelector('#df-d160e65d-a3bc-477b-a2de-a791b549d62c');\n",
              "        const dataTable =\n",
              "          await google.colab.kernel.invokeFunction('convertToInteractive',\n",
              "                                                    [key], {});\n",
              "        if (!dataTable) return;\n",
              "\n",
              "        const docLinkHtml = 'Like what you see? Visit the ' +\n",
              "          '<a target=\"_blank\" href=https://colab.research.google.com/notebooks/data_table.ipynb>data table notebook</a>'\n",
              "          + ' to learn more about interactive tables.';\n",
              "        element.innerHTML = '';\n",
              "        dataTable['output_type'] = 'display_data';\n",
              "        await google.colab.output.renderOutput(dataTable, element);\n",
              "        const docLink = document.createElement('div');\n",
              "        docLink.innerHTML = docLinkHtml;\n",
              "        element.appendChild(docLink);\n",
              "      }\n",
              "    </script>\n",
              "  </div>\n",
              "\n",
              "\n",
              "<div id=\"df-94c67aed-cb23-4514-a90f-e895d88f3958\">\n",
              "  <button class=\"colab-df-quickchart\" onclick=\"quickchart('df-94c67aed-cb23-4514-a90f-e895d88f3958')\"\n",
              "            title=\"Suggest charts\"\n",
              "            style=\"display:none;\">\n",
              "\n",
              "<svg xmlns=\"http://www.w3.org/2000/svg\" height=\"24px\"viewBox=\"0 0 24 24\"\n",
              "     width=\"24px\">\n",
              "    <g>\n",
              "        <path d=\"M19 3H5c-1.1 0-2 .9-2 2v14c0 1.1.9 2 2 2h14c1.1 0 2-.9 2-2V5c0-1.1-.9-2-2-2zM9 17H7v-7h2v7zm4 0h-2V7h2v10zm4 0h-2v-4h2v4z\"/>\n",
              "    </g>\n",
              "</svg>\n",
              "  </button>\n",
              "\n",
              "<style>\n",
              "  .colab-df-quickchart {\n",
              "      --bg-color: #E8F0FE;\n",
              "      --fill-color: #1967D2;\n",
              "      --hover-bg-color: #E2EBFA;\n",
              "      --hover-fill-color: #174EA6;\n",
              "      --disabled-fill-color: #AAA;\n",
              "      --disabled-bg-color: #DDD;\n",
              "  }\n",
              "\n",
              "  [theme=dark] .colab-df-quickchart {\n",
              "      --bg-color: #3B4455;\n",
              "      --fill-color: #D2E3FC;\n",
              "      --hover-bg-color: #434B5C;\n",
              "      --hover-fill-color: #FFFFFF;\n",
              "      --disabled-bg-color: #3B4455;\n",
              "      --disabled-fill-color: #666;\n",
              "  }\n",
              "\n",
              "  .colab-df-quickchart {\n",
              "    background-color: var(--bg-color);\n",
              "    border: none;\n",
              "    border-radius: 50%;\n",
              "    cursor: pointer;\n",
              "    display: none;\n",
              "    fill: var(--fill-color);\n",
              "    height: 32px;\n",
              "    padding: 0;\n",
              "    width: 32px;\n",
              "  }\n",
              "\n",
              "  .colab-df-quickchart:hover {\n",
              "    background-color: var(--hover-bg-color);\n",
              "    box-shadow: 0 1px 2px rgba(60, 64, 67, 0.3), 0 1px 3px 1px rgba(60, 64, 67, 0.15);\n",
              "    fill: var(--button-hover-fill-color);\n",
              "  }\n",
              "\n",
              "  .colab-df-quickchart-complete:disabled,\n",
              "  .colab-df-quickchart-complete:disabled:hover {\n",
              "    background-color: var(--disabled-bg-color);\n",
              "    fill: var(--disabled-fill-color);\n",
              "    box-shadow: none;\n",
              "  }\n",
              "\n",
              "  .colab-df-spinner {\n",
              "    border: 2px solid var(--fill-color);\n",
              "    border-color: transparent;\n",
              "    border-bottom-color: var(--fill-color);\n",
              "    animation:\n",
              "      spin 1s steps(1) infinite;\n",
              "  }\n",
              "\n",
              "  @keyframes spin {\n",
              "    0% {\n",
              "      border-color: transparent;\n",
              "      border-bottom-color: var(--fill-color);\n",
              "      border-left-color: var(--fill-color);\n",
              "    }\n",
              "    20% {\n",
              "      border-color: transparent;\n",
              "      border-left-color: var(--fill-color);\n",
              "      border-top-color: var(--fill-color);\n",
              "    }\n",
              "    30% {\n",
              "      border-color: transparent;\n",
              "      border-left-color: var(--fill-color);\n",
              "      border-top-color: var(--fill-color);\n",
              "      border-right-color: var(--fill-color);\n",
              "    }\n",
              "    40% {\n",
              "      border-color: transparent;\n",
              "      border-right-color: var(--fill-color);\n",
              "      border-top-color: var(--fill-color);\n",
              "    }\n",
              "    60% {\n",
              "      border-color: transparent;\n",
              "      border-right-color: var(--fill-color);\n",
              "    }\n",
              "    80% {\n",
              "      border-color: transparent;\n",
              "      border-right-color: var(--fill-color);\n",
              "      border-bottom-color: var(--fill-color);\n",
              "    }\n",
              "    90% {\n",
              "      border-color: transparent;\n",
              "      border-bottom-color: var(--fill-color);\n",
              "    }\n",
              "  }\n",
              "</style>\n",
              "\n",
              "  <script>\n",
              "    async function quickchart(key) {\n",
              "      const quickchartButtonEl =\n",
              "        document.querySelector('#' + key + ' button');\n",
              "      quickchartButtonEl.disabled = true;  // To prevent multiple clicks.\n",
              "      quickchartButtonEl.classList.add('colab-df-spinner');\n",
              "      try {\n",
              "        const charts = await google.colab.kernel.invokeFunction(\n",
              "            'suggestCharts', [key], {});\n",
              "      } catch (error) {\n",
              "        console.error('Error during call to suggestCharts:', error);\n",
              "      }\n",
              "      quickchartButtonEl.classList.remove('colab-df-spinner');\n",
              "      quickchartButtonEl.classList.add('colab-df-quickchart-complete');\n",
              "    }\n",
              "    (() => {\n",
              "      let quickchartButtonEl =\n",
              "        document.querySelector('#df-94c67aed-cb23-4514-a90f-e895d88f3958 button');\n",
              "      quickchartButtonEl.style.display =\n",
              "        google.colab.kernel.accessAllowed ? 'block' : 'none';\n",
              "    })();\n",
              "  </script>\n",
              "</div>\n",
              "\n",
              "  <div id=\"id_4de8166b-a279-4434-863f-4d7cd9abf4ca\">\n",
              "    <style>\n",
              "      .colab-df-generate {\n",
              "        background-color: #E8F0FE;\n",
              "        border: none;\n",
              "        border-radius: 50%;\n",
              "        cursor: pointer;\n",
              "        display: none;\n",
              "        fill: #1967D2;\n",
              "        height: 32px;\n",
              "        padding: 0 0 0 0;\n",
              "        width: 32px;\n",
              "      }\n",
              "\n",
              "      .colab-df-generate:hover {\n",
              "        background-color: #E2EBFA;\n",
              "        box-shadow: 0px 1px 2px rgba(60, 64, 67, 0.3), 0px 1px 3px 1px rgba(60, 64, 67, 0.15);\n",
              "        fill: #174EA6;\n",
              "      }\n",
              "\n",
              "      [theme=dark] .colab-df-generate {\n",
              "        background-color: #3B4455;\n",
              "        fill: #D2E3FC;\n",
              "      }\n",
              "\n",
              "      [theme=dark] .colab-df-generate:hover {\n",
              "        background-color: #434B5C;\n",
              "        box-shadow: 0px 1px 3px 1px rgba(0, 0, 0, 0.15);\n",
              "        filter: drop-shadow(0px 1px 2px rgba(0, 0, 0, 0.3));\n",
              "        fill: #FFFFFF;\n",
              "      }\n",
              "    </style>\n",
              "    <button class=\"colab-df-generate\" onclick=\"generateWithVariable('news_df')\"\n",
              "            title=\"Generate code using this dataframe.\"\n",
              "            style=\"display:none;\">\n",
              "\n",
              "  <svg xmlns=\"http://www.w3.org/2000/svg\" height=\"24px\"viewBox=\"0 0 24 24\"\n",
              "       width=\"24px\">\n",
              "    <path d=\"M7,19H8.4L18.45,9,17,7.55,7,17.6ZM5,21V16.75L18.45,3.32a2,2,0,0,1,2.83,0l1.4,1.43a1.91,1.91,0,0,1,.58,1.4,1.91,1.91,0,0,1-.58,1.4L9.25,21ZM18.45,9,17,7.55Zm-12,3A5.31,5.31,0,0,0,4.9,8.1,5.31,5.31,0,0,0,1,6.5,5.31,5.31,0,0,0,4.9,4.9,5.31,5.31,0,0,0,6.5,1,5.31,5.31,0,0,0,8.1,4.9,5.31,5.31,0,0,0,12,6.5,5.46,5.46,0,0,0,6.5,12Z\"/>\n",
              "  </svg>\n",
              "    </button>\n",
              "    <script>\n",
              "      (() => {\n",
              "      const buttonEl =\n",
              "        document.querySelector('#id_4de8166b-a279-4434-863f-4d7cd9abf4ca button.colab-df-generate');\n",
              "      buttonEl.style.display =\n",
              "        google.colab.kernel.accessAllowed ? 'block' : 'none';\n",
              "\n",
              "      buttonEl.onclick = () => {\n",
              "        google.colab.notebook.generateWithVariable('news_df');\n",
              "      }\n",
              "      })();\n",
              "    </script>\n",
              "  </div>\n",
              "\n",
              "    </div>\n",
              "  </div>\n"
            ],
            "application/vnd.google.colaboratory.intrinsic+json": {
              "type": "dataframe",
              "variable_name": "news_df"
            }
          },
          "metadata": {},
          "execution_count": 7
        }
      ]
    },
    {
      "cell_type": "code",
      "execution_count": 8,
      "metadata": {
        "id": "dS__D3LLAQpo",
        "colab": {
          "base_uri": "https://localhost:8080/",
          "height": 332
        },
        "outputId": "beee63be-f505-4ee2-9c1d-78e8b1f2d806"
      },
      "outputs": [
        {
          "output_type": "error",
          "ename": "KeyboardInterrupt",
          "evalue": "",
          "traceback": [
            "\u001b[0;31m---------------------------------------------------------------------------\u001b[0m",
            "\u001b[0;31mKeyboardInterrupt\u001b[0m                         Traceback (most recent call last)",
            "\u001b[0;32m<ipython-input-8-c73ef5ef9fe1>\u001b[0m in \u001b[0;36m<cell line: 6>\u001b[0;34m()\u001b[0m\n\u001b[1;32m      4\u001b[0m \u001b[0mtest_df\u001b[0m \u001b[0;34m=\u001b[0m \u001b[0mnews_df\u001b[0m\u001b[0;34m[\u001b[0m\u001b[0;34m:\u001b[0m\u001b[0mtest_size\u001b[0m\u001b[0;34m]\u001b[0m\u001b[0;34m\u001b[0m\u001b[0;34m\u001b[0m\u001b[0m\n\u001b[1;32m      5\u001b[0m \u001b[0;34m\u001b[0m\u001b[0m\n\u001b[0;32m----> 6\u001b[0;31m \u001b[0mX_train\u001b[0m \u001b[0;34m=\u001b[0m \u001b[0mnp\u001b[0m\u001b[0;34m.\u001b[0m\u001b[0marray\u001b[0m\u001b[0;34m(\u001b[0m\u001b[0;34m[\u001b[0m\u001b[0mnp\u001b[0m\u001b[0;34m.\u001b[0m\u001b[0mfromstring\u001b[0m\u001b[0;34m(\u001b[0m\u001b[0mrecord\u001b[0m\u001b[0;34m.\u001b[0m\u001b[0mstrip\u001b[0m\u001b[0;34m(\u001b[0m\u001b[0;34m'[]'\u001b[0m\u001b[0;34m)\u001b[0m\u001b[0;34m,\u001b[0m \u001b[0msep\u001b[0m\u001b[0;34m=\u001b[0m\u001b[0;34m','\u001b[0m\u001b[0;34m)\u001b[0m \u001b[0;32mfor\u001b[0m \u001b[0mrecord\u001b[0m \u001b[0;32min\u001b[0m \u001b[0mtrain_df\u001b[0m\u001b[0;34m[\u001b[0m\u001b[0;34m'Concatenated_News_Embedding'\u001b[0m\u001b[0;34m]\u001b[0m\u001b[0;34m]\u001b[0m\u001b[0;34m)\u001b[0m\u001b[0;34m\u001b[0m\u001b[0;34m\u001b[0m\u001b[0m\n\u001b[0m\u001b[1;32m      7\u001b[0m \u001b[0mX_test\u001b[0m \u001b[0;34m=\u001b[0m \u001b[0mnp\u001b[0m\u001b[0;34m.\u001b[0m\u001b[0marray\u001b[0m\u001b[0;34m(\u001b[0m\u001b[0;34m[\u001b[0m\u001b[0mnp\u001b[0m\u001b[0;34m.\u001b[0m\u001b[0mfromstring\u001b[0m\u001b[0;34m(\u001b[0m\u001b[0mrecord\u001b[0m\u001b[0;34m.\u001b[0m\u001b[0mstrip\u001b[0m\u001b[0;34m(\u001b[0m\u001b[0;34m'[]'\u001b[0m\u001b[0;34m)\u001b[0m\u001b[0;34m,\u001b[0m \u001b[0msep\u001b[0m\u001b[0;34m=\u001b[0m\u001b[0;34m','\u001b[0m\u001b[0;34m)\u001b[0m \u001b[0;32mfor\u001b[0m \u001b[0mrecord\u001b[0m \u001b[0;32min\u001b[0m \u001b[0mtest_df\u001b[0m\u001b[0;34m[\u001b[0m\u001b[0;34m'Concatenated_News_Embedding'\u001b[0m\u001b[0;34m]\u001b[0m\u001b[0;34m]\u001b[0m\u001b[0;34m)\u001b[0m\u001b[0;34m\u001b[0m\u001b[0;34m\u001b[0m\u001b[0m\n\u001b[1;32m      8\u001b[0m \u001b[0;34m\u001b[0m\u001b[0m\n",
            "\u001b[0;32m<ipython-input-8-c73ef5ef9fe1>\u001b[0m in \u001b[0;36m<listcomp>\u001b[0;34m(.0)\u001b[0m\n\u001b[1;32m      4\u001b[0m \u001b[0mtest_df\u001b[0m \u001b[0;34m=\u001b[0m \u001b[0mnews_df\u001b[0m\u001b[0;34m[\u001b[0m\u001b[0;34m:\u001b[0m\u001b[0mtest_size\u001b[0m\u001b[0;34m]\u001b[0m\u001b[0;34m\u001b[0m\u001b[0;34m\u001b[0m\u001b[0m\n\u001b[1;32m      5\u001b[0m \u001b[0;34m\u001b[0m\u001b[0m\n\u001b[0;32m----> 6\u001b[0;31m \u001b[0mX_train\u001b[0m \u001b[0;34m=\u001b[0m \u001b[0mnp\u001b[0m\u001b[0;34m.\u001b[0m\u001b[0marray\u001b[0m\u001b[0;34m(\u001b[0m\u001b[0;34m[\u001b[0m\u001b[0mnp\u001b[0m\u001b[0;34m.\u001b[0m\u001b[0mfromstring\u001b[0m\u001b[0;34m(\u001b[0m\u001b[0mrecord\u001b[0m\u001b[0;34m.\u001b[0m\u001b[0mstrip\u001b[0m\u001b[0;34m(\u001b[0m\u001b[0;34m'[]'\u001b[0m\u001b[0;34m)\u001b[0m\u001b[0;34m,\u001b[0m \u001b[0msep\u001b[0m\u001b[0;34m=\u001b[0m\u001b[0;34m','\u001b[0m\u001b[0;34m)\u001b[0m \u001b[0;32mfor\u001b[0m \u001b[0mrecord\u001b[0m \u001b[0;32min\u001b[0m \u001b[0mtrain_df\u001b[0m\u001b[0;34m[\u001b[0m\u001b[0;34m'Concatenated_News_Embedding'\u001b[0m\u001b[0;34m]\u001b[0m\u001b[0;34m]\u001b[0m\u001b[0;34m)\u001b[0m\u001b[0;34m\u001b[0m\u001b[0;34m\u001b[0m\u001b[0m\n\u001b[0m\u001b[1;32m      7\u001b[0m \u001b[0mX_test\u001b[0m \u001b[0;34m=\u001b[0m \u001b[0mnp\u001b[0m\u001b[0;34m.\u001b[0m\u001b[0marray\u001b[0m\u001b[0;34m(\u001b[0m\u001b[0;34m[\u001b[0m\u001b[0mnp\u001b[0m\u001b[0;34m.\u001b[0m\u001b[0mfromstring\u001b[0m\u001b[0;34m(\u001b[0m\u001b[0mrecord\u001b[0m\u001b[0;34m.\u001b[0m\u001b[0mstrip\u001b[0m\u001b[0;34m(\u001b[0m\u001b[0;34m'[]'\u001b[0m\u001b[0;34m)\u001b[0m\u001b[0;34m,\u001b[0m \u001b[0msep\u001b[0m\u001b[0;34m=\u001b[0m\u001b[0;34m','\u001b[0m\u001b[0;34m)\u001b[0m \u001b[0;32mfor\u001b[0m \u001b[0mrecord\u001b[0m \u001b[0;32min\u001b[0m \u001b[0mtest_df\u001b[0m\u001b[0;34m[\u001b[0m\u001b[0;34m'Concatenated_News_Embedding'\u001b[0m\u001b[0;34m]\u001b[0m\u001b[0;34m]\u001b[0m\u001b[0;34m)\u001b[0m\u001b[0;34m\u001b[0m\u001b[0;34m\u001b[0m\u001b[0m\n\u001b[1;32m      8\u001b[0m \u001b[0;34m\u001b[0m\u001b[0m\n",
            "\u001b[0;31mKeyboardInterrupt\u001b[0m: "
          ]
        }
      ],
      "source": [
        "# Splitting the data into train and test sets\n",
        "test_size = int(len(news_df) * 0.1)\n",
        "train_df = news_df[test_size:]\n",
        "test_df = news_df[:test_size]\n",
        "\n",
        "X_train = np.array([np.fromstring(record.strip('[]'), sep=',') for record in train_df['Concatenated_News_Embedding']])\n",
        "X_test = np.array([np.fromstring(record.strip('[]'), sep=',') for record in test_df['Concatenated_News_Embedding']])\n",
        "\n",
        "y_train = train_df['1_day_return_positive']\n",
        "y_test = test_df['10_day_return_positive']"
      ]
    },
    {
      "cell_type": "code",
      "source": [
        "X_train.shape"
      ],
      "metadata": {
        "id": "lX0hnGWArRqg"
      },
      "execution_count": null,
      "outputs": []
    },
    {
      "cell_type": "code",
      "execution_count": 9,
      "metadata": {
        "id": "MvzTkzRmAQpo",
        "outputId": "35031271-3ac1-47f2-a49b-cd05ce93d550",
        "colab": {
          "base_uri": "https://localhost:8080/"
        }
      },
      "outputs": [
        {
          "output_type": "stream",
          "name": "stdout",
          "text": [
            "Accuracy: 0.5085324232081911\n",
            "Classification Report:\n",
            "              precision    recall  f1-score   support\n",
            "\n",
            "           0       0.60      0.16      0.25       456\n",
            "           1       0.49      0.89      0.64       423\n",
            "\n",
            "    accuracy                           0.51       879\n",
            "   macro avg       0.55      0.52      0.44       879\n",
            "weighted avg       0.55      0.51      0.43       879\n",
            "\n"
          ]
        }
      ],
      "source": [
        "svm = SVC(kernel='linear', C=1.0, random_state=42)\n",
        "\n",
        "# Train the classifier on the training data\n",
        "svm.fit(X_train, y_train)\n",
        "\n",
        "# Predict the labels of the test set\n",
        "y_pred = svm.predict(X_test)\n",
        "\n",
        "# Evaluate the classifier\n",
        "accuracy = accuracy_score(y_test, y_pred)\n",
        "report = classification_report(y_test, y_pred)\n",
        "\n",
        "print(f'Accuracy: {accuracy}')\n",
        "print('Classification Report:')\n",
        "print(report)"
      ]
    },
    {
      "cell_type": "code",
      "source": [
        "# Define the parameter grid\n",
        "param_grid = {\n",
        "    'C': [0.1, 1, 10],\n",
        "    'gamma': [1, 0.1, 0.01],\n",
        "    'kernel': ['rbf', 'linear', 'poly', 'sigmoid']\n",
        "}\n",
        "\n",
        "# Initialize the SVM model\n",
        "svm = SVC()\n",
        "\n",
        "# Set up the grid search\n",
        "grid_search = GridSearchCV(svm, param_grid, refit=True, verbose=3, cv=5, n_jobs=-1)\n",
        "\n",
        "# Fit the grid search to the training data\n",
        "grid_search.fit(X_train, y_train)\n",
        "\n",
        "# Output the best parameters and estimator\n",
        "print(\"Best parameters found: \", grid_search.best_params_)\n",
        "print(\"Best estimator: \", grid_search.best_estimator_)\n",
        "\n",
        "# Make predictions on the test set\n",
        "y_pred = grid_search.predict(X_test)\n",
        "\n",
        "# Evaluate the model's performance\n",
        "print(\"Accuracy:\", accuracy_score(y_test, y_pred))\n",
        "print(\"Classification Report:\\n\", classification_report(y_test, y_pred))"
      ],
      "metadata": {
        "colab": {
          "base_uri": "https://localhost:8080/",
          "height": 211
        },
        "id": "YQt5NQx55jpF",
        "outputId": "960e69db-077b-4df6-97d9-083c197727e4"
      },
      "execution_count": 3,
      "outputs": [
        {
          "output_type": "error",
          "ename": "NameError",
          "evalue": "name 'X_train' is not defined",
          "traceback": [
            "\u001b[0;31m---------------------------------------------------------------------------\u001b[0m",
            "\u001b[0;31mNameError\u001b[0m                                 Traceback (most recent call last)",
            "\u001b[0;32m<ipython-input-3-9e2f6fb2335c>\u001b[0m in \u001b[0;36m<cell line: 15>\u001b[0;34m()\u001b[0m\n\u001b[1;32m     13\u001b[0m \u001b[0;34m\u001b[0m\u001b[0m\n\u001b[1;32m     14\u001b[0m \u001b[0;31m# Fit the grid search to the training data\u001b[0m\u001b[0;34m\u001b[0m\u001b[0;34m\u001b[0m\u001b[0m\n\u001b[0;32m---> 15\u001b[0;31m \u001b[0mgrid_search\u001b[0m\u001b[0;34m.\u001b[0m\u001b[0mfit\u001b[0m\u001b[0;34m(\u001b[0m\u001b[0mX_train\u001b[0m\u001b[0;34m,\u001b[0m \u001b[0my_train\u001b[0m\u001b[0;34m)\u001b[0m\u001b[0;34m\u001b[0m\u001b[0;34m\u001b[0m\u001b[0m\n\u001b[0m\u001b[1;32m     16\u001b[0m \u001b[0;34m\u001b[0m\u001b[0m\n\u001b[1;32m     17\u001b[0m \u001b[0;31m# Output the best parameters and estimator\u001b[0m\u001b[0;34m\u001b[0m\u001b[0;34m\u001b[0m\u001b[0m\n",
            "\u001b[0;31mNameError\u001b[0m: name 'X_train' is not defined"
          ]
        }
      ]
    },
    {
      "cell_type": "code",
      "execution_count": null,
      "metadata": {
        "id": "KFKhduHsAQpp",
        "outputId": "7a760713-fff0-49db-c9dd-f96b84fbabd4",
        "colab": {
          "base_uri": "https://localhost:8080/"
        }
      },
      "outputs": [
        {
          "output_type": "stream",
          "name": "stdout",
          "text": [
            "Accuracy: 0.5187713310580204\n",
            "Classification Report:\n",
            "              precision    recall  f1-score   support\n",
            "\n",
            "           0       0.57      0.28      0.38       456\n",
            "           1       0.50      0.78      0.61       423\n",
            "\n",
            "    accuracy                           0.52       879\n",
            "   macro avg       0.54      0.53      0.49       879\n",
            "weighted avg       0.54      0.52      0.49       879\n",
            "\n"
          ]
        }
      ],
      "source": [
        "rf = RandomForestClassifier(n_estimators=300, random_state=42)\n",
        "\n",
        "# Train the classifier on the training data\n",
        "rf.fit(X_train, y_train)\n",
        "\n",
        "# Predict the labels of the test set\n",
        "y_pred = rf.predict(X_test)\n",
        "\n",
        "# Evaluate the classifier\n",
        "accuracy = accuracy_score(y_test, y_pred)\n",
        "report = classification_report(y_test, y_pred)\n",
        "\n",
        "print(f'Accuracy: {accuracy}')\n",
        "print('Classification Report:')\n",
        "print(report)"
      ]
    },
    {
      "cell_type": "code",
      "source": [
        "pca = PCA(n_components=300)\n",
        "X_train_pca = pca.fit_transform(X_train)\n",
        "X_test_pca = pca.transform(X_test)"
      ],
      "metadata": {
        "id": "x4ceO91lso3F"
      },
      "execution_count": null,
      "outputs": []
    },
    {
      "cell_type": "code",
      "source": [
        "X_train_pca.shape"
      ],
      "metadata": {
        "colab": {
          "base_uri": "https://localhost:8080/"
        },
        "id": "KInigPOr2Tsf",
        "outputId": "4f21583e-3410-4b96-b39c-67e9bf899816"
      },
      "execution_count": null,
      "outputs": [
        {
          "output_type": "execute_result",
          "data": {
            "text/plain": [
              "(7916, 300)"
            ]
          },
          "metadata": {},
          "execution_count": 12
        }
      ]
    },
    {
      "cell_type": "code",
      "source": [
        "rf_pca = RandomForestClassifier(n_estimators=100, random_state=42)\n",
        "\n",
        "# Train the classifier on the training data\n",
        "rf_pca.fit(X_train_pca, y_train)\n",
        "\n",
        "# Predict the labels of the test set\n",
        "y_pred = rf_pca.predict(X_test_pca)\n",
        "\n",
        "# Evaluate the classifier\n",
        "accuracy = accuracy_score(y_test, y_pred)\n",
        "report = classification_report(y_test, y_pred)\n",
        "\n",
        "print(f'Accuracy: {accuracy}')\n",
        "print('Classification Report:')\n",
        "print(report)"
      ],
      "metadata": {
        "colab": {
          "base_uri": "https://localhost:8080/"
        },
        "id": "aEwon7Drs2WQ",
        "outputId": "69547417-5403-46bd-fbb3-41437c68e0bc"
      },
      "execution_count": null,
      "outputs": [
        {
          "output_type": "stream",
          "name": "stdout",
          "text": [
            "Accuracy: 0.49146757679180886\n",
            "Classification Report:\n",
            "              precision    recall  f1-score   support\n",
            "\n",
            "           0       0.51      0.35      0.42       456\n",
            "           1       0.48      0.65      0.55       423\n",
            "\n",
            "    accuracy                           0.49       879\n",
            "   macro avg       0.50      0.50      0.48       879\n",
            "weighted avg       0.50      0.49      0.48       879\n",
            "\n"
          ]
        }
      ]
    },
    {
      "cell_type": "code",
      "source": [
        "umap_reducer = umap.UMAP(n_components=50, random_state=42)\n",
        "X_train_umap = umap_reducer.fit_transform(X_train)\n",
        "X_test_umap = umap_reducer.transform(X_test)"
      ],
      "metadata": {
        "colab": {
          "base_uri": "https://localhost:8080/"
        },
        "id": "hxSZKm8jtcuZ",
        "outputId": "4f043092-d77b-49de-aaba-7488463ed882"
      },
      "execution_count": null,
      "outputs": [
        {
          "output_type": "stream",
          "name": "stderr",
          "text": [
            "/usr/local/lib/python3.10/dist-packages/umap/umap_.py:1945: UserWarning: n_jobs value 1 overridden to 1 by setting random_state. Use no seed for parallelism.\n",
            "  warn(f\"n_jobs value {self.n_jobs} overridden to 1 by setting random_state. Use no seed for parallelism.\")\n"
          ]
        }
      ]
    },
    {
      "cell_type": "code",
      "source": [
        "rf_umap = RandomForestClassifier(n_estimators=100, random_state=42)\n",
        "\n",
        "# Train the classifier on the training data\n",
        "rf_umap.fit(X_train_umap, y_train)\n",
        "\n",
        "# Predict the labels of the test set\n",
        "y_pred = rf_umap.predict(X_test_umap)\n",
        "\n",
        "# Evaluate the classifier\n",
        "accuracy = accuracy_score(y_test, y_pred)\n",
        "report = classification_report(y_test, y_pred)\n",
        "\n",
        "print(f'Accuracy: {accuracy}')\n",
        "print('Classification Report:')\n",
        "print(report)"
      ],
      "metadata": {
        "colab": {
          "base_uri": "https://localhost:8080/"
        },
        "id": "Xk-c7rKA15Mm",
        "outputId": "1cfada9e-98f5-4221-eac9-8b44a83700c8"
      },
      "execution_count": null,
      "outputs": [
        {
          "output_type": "stream",
          "name": "stdout",
          "text": [
            "Accuracy: 0.5017064846416383\n",
            "Classification Report:\n",
            "              precision    recall  f1-score   support\n",
            "\n",
            "           0       0.52      0.43      0.47       456\n",
            "           1       0.49      0.58      0.53       423\n",
            "\n",
            "    accuracy                           0.50       879\n",
            "   macro avg       0.50      0.50      0.50       879\n",
            "weighted avg       0.51      0.50      0.50       879\n",
            "\n"
          ]
        }
      ]
    },
    {
      "cell_type": "code",
      "execution_count": null,
      "metadata": {
        "id": "V880W11RAQpp",
        "colab": {
          "base_uri": "https://localhost:8080/"
        },
        "outputId": "80f18bc6-cf4d-4291-862c-f66912111115"
      },
      "outputs": [
        {
          "output_type": "stream",
          "name": "stderr",
          "text": [
            "/usr/local/lib/python3.10/dist-packages/xgboost/core.py:158: UserWarning: [18:40:57] WARNING: /workspace/src/learner.cc:740: \n",
            "Parameters: { \"use_label_encoder\" } are not used.\n",
            "\n",
            "  warnings.warn(smsg, UserWarning)\n"
          ]
        },
        {
          "output_type": "stream",
          "name": "stdout",
          "text": [
            "Accuracy: 0.5199089874857793\n",
            "Classification Report:\n",
            "              precision    recall  f1-score   support\n",
            "\n",
            "           0       0.55      0.45      0.49       456\n",
            "           1       0.50      0.60      0.55       423\n",
            "\n",
            "    accuracy                           0.52       879\n",
            "   macro avg       0.52      0.52      0.52       879\n",
            "weighted avg       0.52      0.52      0.52       879\n",
            "\n"
          ]
        }
      ],
      "source": [
        "xgb = XGBClassifier(n_estimators=100, use_label_encoder=False, eval_metric='logloss', random_state=42)\n",
        "\n",
        "# Train the classifier on the training data\n",
        "xgb.fit(X_train, y_train)\n",
        "\n",
        "# Predict the labels of the test set\n",
        "y_pred = xgb.predict(X_test)\n",
        "\n",
        "# Evaluate the classifier\n",
        "accuracy = accuracy_score(y_test, y_pred)\n",
        "report = classification_report(y_test, y_pred)\n",
        "\n",
        "print(f'Accuracy: {accuracy}')\n",
        "print('Classification Report:')\n",
        "print(report)"
      ]
    },
    {
      "cell_type": "code",
      "source": [
        "model = Sequential([\n",
        "    # Input layer & first dense layer\n",
        "    Dense(1024, input_dim=1536, kernel_initializer='he_uniform'),\n",
        "    Activation('relu'),\n",
        "    Dropout(0.3),\n",
        "\n",
        "    # Second dense layer\n",
        "    Dense(512, kernel_initializer='he_uniform'),\n",
        "    Activation('relu'),\n",
        "    Dropout(0.3),\n",
        "\n",
        "    # Third dense layer\n",
        "    Dense(256, kernel_initializer='he_uniform'),\n",
        "    Activation('relu'),\n",
        "    Dropout(0.3),\n",
        "\n",
        "    # Output layer\n",
        "    Dense(1, activation='sigmoid')  # Sigmoid activation for binary output\n",
        "])\n",
        "\n",
        "# Compile the model\n",
        "model.compile(optimizer='adam', loss='binary_crossentropy', metrics=['accuracy'])\n",
        "\n",
        "# Print model summary\n",
        "model.summary()"
      ],
      "metadata": {
        "colab": {
          "base_uri": "https://localhost:8080/"
        },
        "id": "A35j8QLp3gBa",
        "outputId": "7797f058-36fd-4398-aaf5-3c8a52e856fb"
      },
      "execution_count": null,
      "outputs": [
        {
          "output_type": "stream",
          "name": "stdout",
          "text": [
            "Model: \"sequential_1\"\n",
            "_________________________________________________________________\n",
            " Layer (type)                Output Shape              Param #   \n",
            "=================================================================\n",
            " dense_7 (Dense)             (None, 1024)              1573888   \n",
            "                                                                 \n",
            " activation (Activation)     (None, 1024)              0         \n",
            "                                                                 \n",
            " dropout (Dropout)           (None, 1024)              0         \n",
            "                                                                 \n",
            " dense_8 (Dense)             (None, 512)               524800    \n",
            "                                                                 \n",
            " activation_1 (Activation)   (None, 512)               0         \n",
            "                                                                 \n",
            " dropout_1 (Dropout)         (None, 512)               0         \n",
            "                                                                 \n",
            " dense_9 (Dense)             (None, 256)               131328    \n",
            "                                                                 \n",
            " activation_2 (Activation)   (None, 256)               0         \n",
            "                                                                 \n",
            " dropout_2 (Dropout)         (None, 256)               0         \n",
            "                                                                 \n",
            " dense_10 (Dense)            (None, 1)                 257       \n",
            "                                                                 \n",
            "=================================================================\n",
            "Total params: 2230273 (8.51 MB)\n",
            "Trainable params: 2230273 (8.51 MB)\n",
            "Non-trainable params: 0 (0.00 Byte)\n",
            "_________________________________________________________________\n"
          ]
        }
      ]
    },
    {
      "cell_type": "code",
      "source": [
        "model.fit(X_train, y_train, epochs=20, batch_size=8, validation_data=(X_test, y_test))\n",
        "\n",
        "# Evaluate the model\n",
        "loss, accuracy = model.evaluate(X_test, y_test)\n",
        "print(f'Accuracy: {accuracy}')\n",
        "\n",
        "# Predict the labels of the test set\n",
        "y_prob = model.predict(X_test)\n",
        "\n"
      ],
      "metadata": {
        "colab": {
          "base_uri": "https://localhost:8080/"
        },
        "id": "x1NK8MTe5uH6",
        "outputId": "5194171f-ac11-467d-d906-355e0d0b8c0b"
      },
      "execution_count": null,
      "outputs": [
        {
          "output_type": "stream",
          "name": "stdout",
          "text": [
            "Epoch 1/20\n",
            "990/990 [==============================] - 8s 8ms/step - loss: 0.5372 - accuracy: 0.7153 - val_loss: 0.7982 - val_accuracy: 0.4972\n",
            "Epoch 2/20\n",
            "990/990 [==============================] - 5s 5ms/step - loss: 0.5292 - accuracy: 0.7166 - val_loss: 0.9005 - val_accuracy: 0.5051\n",
            "Epoch 3/20\n",
            "990/990 [==============================] - 4s 4ms/step - loss: 0.5175 - accuracy: 0.7328 - val_loss: 0.8739 - val_accuracy: 0.4972\n",
            "Epoch 4/20\n",
            "990/990 [==============================] - 5s 5ms/step - loss: 0.5026 - accuracy: 0.7401 - val_loss: 0.8696 - val_accuracy: 0.5222\n",
            "Epoch 5/20\n",
            "990/990 [==============================] - 4s 4ms/step - loss: 0.4984 - accuracy: 0.7429 - val_loss: 0.9296 - val_accuracy: 0.5267\n",
            "Epoch 6/20\n",
            "990/990 [==============================] - 4s 4ms/step - loss: 0.4765 - accuracy: 0.7563 - val_loss: 0.8687 - val_accuracy: 0.5324\n",
            "Epoch 7/20\n",
            "990/990 [==============================] - 5s 5ms/step - loss: 0.4762 - accuracy: 0.7558 - val_loss: 0.9938 - val_accuracy: 0.5097\n",
            "Epoch 8/20\n",
            "990/990 [==============================] - 4s 4ms/step - loss: 0.4654 - accuracy: 0.7672 - val_loss: 0.8861 - val_accuracy: 0.5222\n",
            "Epoch 9/20\n",
            "990/990 [==============================] - 4s 4ms/step - loss: 0.4550 - accuracy: 0.7753 - val_loss: 1.0224 - val_accuracy: 0.5063\n",
            "Epoch 10/20\n",
            "990/990 [==============================] - 7s 7ms/step - loss: 0.4533 - accuracy: 0.7710 - val_loss: 0.9381 - val_accuracy: 0.5074\n",
            "Epoch 11/20\n",
            "990/990 [==============================] - 4s 4ms/step - loss: 0.4381 - accuracy: 0.7813 - val_loss: 0.9502 - val_accuracy: 0.5063\n",
            "Epoch 12/20\n",
            "990/990 [==============================] - 4s 4ms/step - loss: 0.4208 - accuracy: 0.7969 - val_loss: 1.0113 - val_accuracy: 0.5142\n",
            "Epoch 13/20\n",
            "990/990 [==============================] - 5s 5ms/step - loss: 0.4214 - accuracy: 0.7926 - val_loss: 0.9698 - val_accuracy: 0.4972\n",
            "Epoch 14/20\n",
            "990/990 [==============================] - 4s 4ms/step - loss: 0.4106 - accuracy: 0.8037 - val_loss: 1.1124 - val_accuracy: 0.4915\n",
            "Epoch 15/20\n",
            "990/990 [==============================] - 4s 4ms/step - loss: 0.4144 - accuracy: 0.8019 - val_loss: 1.0903 - val_accuracy: 0.4972\n",
            "Epoch 16/20\n",
            "990/990 [==============================] - 5s 6ms/step - loss: 0.4055 - accuracy: 0.8094 - val_loss: 1.2903 - val_accuracy: 0.5108\n",
            "Epoch 17/20\n",
            "990/990 [==============================] - 4s 4ms/step - loss: 0.4047 - accuracy: 0.8046 - val_loss: 1.0262 - val_accuracy: 0.4972\n",
            "Epoch 18/20\n",
            "990/990 [==============================] - 4s 4ms/step - loss: 0.3889 - accuracy: 0.8109 - val_loss: 1.1468 - val_accuracy: 0.5222\n",
            "Epoch 19/20\n",
            "990/990 [==============================] - 5s 5ms/step - loss: 0.3820 - accuracy: 0.8186 - val_loss: 1.1786 - val_accuracy: 0.5108\n",
            "Epoch 20/20\n",
            "990/990 [==============================] - 5s 5ms/step - loss: 0.3840 - accuracy: 0.8199 - val_loss: 1.1523 - val_accuracy: 0.5006\n",
            "28/28 [==============================] - 0s 2ms/step - loss: 1.1523 - accuracy: 0.5006\n",
            "Accuracy: 0.5005688071250916\n",
            "28/28 [==============================] - 0s 2ms/step\n"
          ]
        }
      ]
    },
    {
      "cell_type": "code",
      "source": [
        "y_prob = model.predict(X_test)"
      ],
      "metadata": {
        "colab": {
          "base_uri": "https://localhost:8080/"
        },
        "id": "Xr4NrU6z9EZI",
        "outputId": "65f83c48-8b15-48f0-c1ad-e9c2e5889e46"
      },
      "execution_count": null,
      "outputs": [
        {
          "output_type": "stream",
          "name": "stdout",
          "text": [
            "28/28 [==============================] - 0s 2ms/step\n"
          ]
        }
      ]
    },
    {
      "cell_type": "code",
      "source": [
        "precision, recall, thresholds = precision_recall_curve(y_test, y_prob)\n",
        "\n",
        "accuracies = []\n",
        "\n",
        "# Calculate F1 scores and accuracy for each threshold\n",
        "f1_scores = []\n",
        "for threshold in thresholds:\n",
        "    y_pred = (y_prob >= threshold).astype(int)\n",
        "    f1_scores.append(f1_score(y_test, y_pred))\n",
        "    accuracies.append(accuracy_score(y_test, y_pred))\n",
        "\n",
        "# Plotting the precision, recall, F1-score, and accuracy as functions of the threshold\n",
        "plt.figure(figsize=(10, 6))\n",
        "plt.plot(thresholds, precision[:-1], 'b--', label='Precision')\n",
        "plt.plot(thresholds, recall[:-1], 'g-', label='Recall')\n",
        "plt.plot(thresholds, f1_scores, 'r-', label='F1 Score')\n",
        "plt.plot(thresholds, accuracies, 'm-', label='Accuracy')\n",
        "plt.xlabel('Threshold')\n",
        "plt.ylabel('Scores')\n",
        "plt.title('Evaluation Metrics at Various Thresholds')\n",
        "plt.legend(loc='best')\n",
        "plt.grid(True)\n",
        "plt.show()\n"
      ],
      "metadata": {
        "colab": {
          "base_uri": "https://localhost:8080/",
          "height": 564
        },
        "id": "6LT4eZpP8IQq",
        "outputId": "f5ef21b4-4a3e-4dfe-90ed-5219757b8e9e"
      },
      "execution_count": null,
      "outputs": [
        {
          "output_type": "display_data",
          "data": {
            "text/plain": [
              "<Figure size 1000x600 with 1 Axes>"
            ],
            "image/png": "[encoded data removed]"
          },
          "metadata": {}
        }
      ]
    },
    {
      "cell_type": "code",
      "source": [
        "\n",
        "y_pred_binary = np.where(y_pred > 0.9, 1, 0)\n",
        "\n",
        "# Print classification report\n",
        "\n",
        "print('Classification Report:')\n",
        "print(classification_report(y_test, y_pred_binary))"
      ],
      "metadata": {
        "colab": {
          "base_uri": "https://localhost:8080/"
        },
        "id": "iULAv3Ol6KDN",
        "outputId": "be07eb82-c1f5-44b6-f4a9-4920d3f2c447"
      },
      "execution_count": null,
      "outputs": [
        {
          "output_type": "stream",
          "name": "stdout",
          "text": [
            "Classification Report:\n",
            "              precision    recall  f1-score   support\n",
            "\n",
            "           0       0.53      0.80      0.64       456\n",
            "           1       0.52      0.23      0.32       423\n",
            "\n",
            "    accuracy                           0.53       879\n",
            "   macro avg       0.52      0.52      0.48       879\n",
            "weighted avg       0.52      0.53      0.49       879\n",
            "\n"
          ]
        }
      ]
    },
    {
      "cell_type": "code",
      "source": [
        "model = Sequential([\n",
        "    LSTM(256, input_shape=(30, 1536), return_sequences=True, kernel_regularizer=l2(0.01)),\n",
        "    Dropout(0.2),\n",
        "    BatchNormalization(),\n",
        "\n",
        "    LSTM(128, return_sequences=True, kernel_regularizer=l2(0.01)),\n",
        "    Dropout(0.2),\n",
        "    BatchNormalization(),\n",
        "\n",
        "    LSTM(64, return_sequences=False, kernel_regularizer=l2(0.01)),\n",
        "    Dropout(0.2),\n",
        "    BatchNormalization(),\n",
        "\n",
        "    Dense(64, activation='relu', kernel_regularizer=l2(0.01)),\n",
        "    Dropout(0.2),\n",
        "    BatchNormalization(),\n",
        "\n",
        "    Dense(64, activation='relu', kernel_regularizer=l2(0.01)),\n",
        "    BatchNormalization(),\n",
        "\n",
        "    Dense(16, activation='relu', kernel_regularizer=l2(0.01)),\n",
        "    BatchNormalization(),\n",
        "\n",
        "    Dense(1, activation='sigmoid')\n",
        "])\n",
        "\n",
        "# Compile the model\n",
        "model.compile(optimizer='adam', loss='binary_crossentropy', metrics=['accuracy'])\n",
        "\n",
        "# Print model summary\n",
        "model.summary()"
      ],
      "metadata": {
        "colab": {
          "base_uri": "https://localhost:8080/"
        },
        "id": "Lu6ufLVlGC9U",
        "outputId": "3a93ed1d-9498-4394-cb45-1d7f484d4d6f"
      },
      "execution_count": null,
      "outputs": [
        {
          "output_type": "stream",
          "name": "stdout",
          "text": [
            "Model: \"sequential_1\"\n",
            "_________________________________________________________________\n",
            " Layer (type)                Output Shape              Param #   \n",
            "=================================================================\n",
            " lstm_3 (LSTM)               (None, 30, 256)           1836032   \n",
            "                                                                 \n",
            " dropout_4 (Dropout)         (None, 30, 256)           0         \n",
            "                                                                 \n",
            " batch_normalization_6 (Bat  (None, 30, 256)           1024      \n",
            " chNormalization)                                                \n",
            "                                                                 \n",
            " lstm_4 (LSTM)               (None, 30, 128)           197120    \n",
            "                                                                 \n",
            " dropout_5 (Dropout)         (None, 30, 128)           0         \n",
            "                                                                 \n",
            " batch_normalization_7 (Bat  (None, 30, 128)           512       \n",
            " chNormalization)                                                \n",
            "                                                                 \n",
            " lstm_5 (LSTM)               (None, 64)                49408     \n",
            "                                                                 \n",
            " dropout_6 (Dropout)         (None, 64)                0         \n",
            "                                                                 \n",
            " batch_normalization_8 (Bat  (None, 64)                256       \n",
            " chNormalization)                                                \n",
            "                                                                 \n",
            " dense_4 (Dense)             (None, 64)                4160      \n",
            "                                                                 \n",
            " dropout_7 (Dropout)         (None, 64)                0         \n",
            "                                                                 \n",
            " batch_normalization_9 (Bat  (None, 64)                256       \n",
            " chNormalization)                                                \n",
            "                                                                 \n",
            " dense_5 (Dense)             (None, 64)                4160      \n",
            "                                                                 \n",
            " batch_normalization_10 (Ba  (None, 64)                256       \n",
            " tchNormalization)                                               \n",
            "                                                                 \n",
            " dense_6 (Dense)             (None, 16)                1040      \n",
            "                                                                 \n",
            " batch_normalization_11 (Ba  (None, 16)                64        \n",
            " tchNormalization)                                               \n",
            "                                                                 \n",
            " dense_7 (Dense)             (None, 1)                 17        \n",
            "                                                                 \n",
            "=================================================================\n",
            "Total params: 2094305 (7.99 MB)\n",
            "Trainable params: 2093121 (7.98 MB)\n",
            "Non-trainable params: 1184 (4.62 KB)\n",
            "_________________________________________________________________\n"
          ]
        }
      ]
    },
    {
      "cell_type": "code",
      "source": [
        "news_df = news_df.sort_values(by='Date')"
      ],
      "metadata": {
        "id": "kjSyzN4rojFD"
      },
      "execution_count": null,
      "outputs": []
    },
    {
      "cell_type": "code",
      "source": [
        "X = np.array([np.fromstring(record.strip('[]'), sep=',') for record in news_df['Concatenated_News_Embedding']])\n",
        "\n",
        "y = np.array(news_df['1_day_return_positive'])\n",
        "\n",
        "print(X.shape)"
      ],
      "metadata": {
        "id": "1zIva6xm93ep",
        "colab": {
          "base_uri": "https://localhost:8080/"
        },
        "outputId": "c1223db8-40f8-48cc-a658-ed2e57a1b66c"
      },
      "execution_count": null,
      "outputs": [
        {
          "output_type": "stream",
          "name": "stdout",
          "text": [
            "(8795, 1536)\n"
          ]
        }
      ]
    },
    {
      "cell_type": "code",
      "source": [
        "split_fraction = 0.8\n",
        "split_index = int(X.shape[0] * split_fraction)\n",
        "\n",
        "X_train, X_test = X[:split_index], X[split_index:]\n",
        "y_train, y_test = y[:split_index], y[split_index:]\n",
        "\n",
        "print(X_train.shape)\n",
        "print(X_test.shape)\n",
        "print(y_train.shape)\n",
        "print(y_test.shape)"
      ],
      "metadata": {
        "colab": {
          "base_uri": "https://localhost:8080/"
        },
        "id": "OUw1NOVZ0aXR",
        "outputId": "13653790-6f96-4ca2-940b-7b5d4492ea8d"
      },
      "execution_count": null,
      "outputs": [
        {
          "output_type": "stream",
          "name": "stdout",
          "text": [
            "(7036, 1536)\n",
            "(1759, 1536)\n",
            "(7036,)\n",
            "(1759,)\n"
          ]
        }
      ]
    },
    {
      "cell_type": "code",
      "source": [
        "from sklearn.preprocessing import StandardScaler\n",
        "\n",
        "# Assuming X_train and X_test are your data\n",
        "scaler = StandardScaler()\n",
        "X_train = scaler.fit_transform(X_train)\n",
        "X_test = scaler.transform(X_test)\n",
        "\n",
        "print(X_train.shape)\n",
        "print(X_test.shape)\n",
        "print(y_train.shape)\n",
        "print(y_test.shape)"
      ],
      "metadata": {
        "colab": {
          "base_uri": "https://localhost:8080/"
        },
        "id": "3Ks-Aeurz--Q",
        "outputId": "018f776c-929b-4604-d32d-9d9b1cfebad5"
      },
      "execution_count": null,
      "outputs": [
        {
          "output_type": "stream",
          "name": "stdout",
          "text": [
            "(7036, 1536)\n",
            "(1759, 1536)\n",
            "(7036,)\n",
            "(1759,)\n"
          ]
        }
      ]
    },
    {
      "cell_type": "code",
      "source": [
        "def create_sequences(X, y, window_size):\n",
        "    X_seqs = []\n",
        "    y_labels = []\n",
        "    for i in range(len(X) - window_size):\n",
        "        X_seq = X[i:i + window_size]  # Create a window of features\n",
        "        y_label = y[i + window_size]  # Get the label corresponding to the end of the window\n",
        "        X_seqs.append(X_seq)\n",
        "        y_labels.append(y_label)\n",
        "    return np.array(X_seqs), np.array(y_labels)"
      ],
      "metadata": {
        "id": "U0p4fLg6nh72"
      },
      "execution_count": null,
      "outputs": []
    },
    {
      "cell_type": "code",
      "source": [
        "window_size = 30\n",
        "X_train, y_train = create_sequences(X_train, y_train, window_size)\n",
        "X_test, y_test = create_sequences(X_test, y_test, window_size)"
      ],
      "metadata": {
        "id": "N8alaFG_nn3j"
      },
      "execution_count": null,
      "outputs": []
    },
    {
      "cell_type": "code",
      "source": [
        "print(\"X_train shape:\", X_train.shape)  # Should show 80% of your samples\n",
        "print(\"X_test shape:\", X_test.shape)   # Should show the remaining 20%\n",
        "print(\"y_train shape:\", y_train.shape) # Corresponding 80% labels\n",
        "print(\"y_test shape:\", y_test.shape)   # Remaining 20% labels"
      ],
      "metadata": {
        "colab": {
          "base_uri": "https://localhost:8080/"
        },
        "id": "05zlIHfGAqdz",
        "outputId": "a9cc26c3-cadc-4f2e-b941-9020b516c631"
      },
      "execution_count": null,
      "outputs": [
        {
          "output_type": "stream",
          "name": "stdout",
          "text": [
            "X_train shape: (7006, 30, 1536)\n",
            "X_test shape: (1729, 30, 1536)\n",
            "y_train shape: (7006,)\n",
            "y_test shape: (1729,)\n"
          ]
        }
      ]
    },
    {
      "cell_type": "code",
      "source": [
        "history = model.fit(X_train, y_train, epochs=70, batch_size=100, validation_data=(X_test, y_test))\n",
        "\n",
        "# Evaluate the model\n",
        "loss, accuracy = model.evaluate(X_test, y_test)\n",
        "print(f'Accuracy: {accuracy}')\n"
      ],
      "metadata": {
        "colab": {
          "base_uri": "https://localhost:8080/"
        },
        "id": "ZsfYm8rKcc7k",
        "outputId": "2deea6e3-df68-40de-ec56-0ab529ca54ee"
      },
      "execution_count": null,
      "outputs": [
        {
          "output_type": "stream",
          "name": "stdout",
          "text": [
            "Epoch 1/70\n",
            "71/71 [==============================] - 19s 79ms/step - loss: 14.1307 - accuracy: 0.5363 - val_loss: 8.7936 - val_accuracy: 0.5176\n",
            "Epoch 2/70\n",
            "71/71 [==============================] - 3s 39ms/step - loss: 6.3880 - accuracy: 0.5629 - val_loss: 4.5175 - val_accuracy: 0.5113\n",
            "Epoch 3/70\n",
            "71/71 [==============================] - 2s 34ms/step - loss: 3.8085 - accuracy: 0.5628 - val_loss: 3.0302 - val_accuracy: 0.5078\n",
            "Epoch 4/70\n",
            "71/71 [==============================] - 2s 35ms/step - loss: 2.6896 - accuracy: 0.5507 - val_loss: 2.2568 - val_accuracy: 0.5188\n",
            "Epoch 5/70\n",
            "71/71 [==============================] - 2s 35ms/step - loss: 1.9564 - accuracy: 0.5608 - val_loss: 1.7393 - val_accuracy: 0.5084\n",
            "Epoch 6/70\n",
            "71/71 [==============================] - 3s 44ms/step - loss: 1.5467 - accuracy: 0.5671 - val_loss: 1.4143 - val_accuracy: 0.5142\n",
            "Epoch 7/70\n",
            "71/71 [==============================] - 3s 40ms/step - loss: 1.2707 - accuracy: 0.5709 - val_loss: 1.2155 - val_accuracy: 0.5095\n",
            "Epoch 8/70\n",
            "71/71 [==============================] - 2s 35ms/step - loss: 1.1757 - accuracy: 0.5567 - val_loss: 1.0939 - val_accuracy: 0.5090\n",
            "Epoch 9/70\n",
            "71/71 [==============================] - 2s 35ms/step - loss: 1.0642 - accuracy: 0.5444 - val_loss: 1.0028 - val_accuracy: 0.4962\n",
            "Epoch 10/70\n",
            "71/71 [==============================] - 3s 35ms/step - loss: 0.9418 - accuracy: 0.5564 - val_loss: 0.9159 - val_accuracy: 0.5038\n",
            "Epoch 11/70\n",
            "71/71 [==============================] - 3s 43ms/step - loss: 0.9572 - accuracy: 0.5689 - val_loss: 0.9248 - val_accuracy: 0.5142\n",
            "Epoch 12/70\n",
            "71/71 [==============================] - 3s 48ms/step - loss: 0.8589 - accuracy: 0.5876 - val_loss: 0.8738 - val_accuracy: 0.4939\n",
            "Epoch 13/70\n",
            "71/71 [==============================] - 2s 35ms/step - loss: 0.8276 - accuracy: 0.5825 - val_loss: 0.8359 - val_accuracy: 0.4968\n",
            "Epoch 14/70\n",
            "71/71 [==============================] - 2s 34ms/step - loss: 0.8063 - accuracy: 0.5765 - val_loss: 0.8167 - val_accuracy: 0.5084\n",
            "Epoch 15/70\n",
            "71/71 [==============================] - 2s 34ms/step - loss: 0.7924 - accuracy: 0.5819 - val_loss: 0.7883 - val_accuracy: 0.5425\n",
            "Epoch 16/70\n",
            "71/71 [==============================] - 3s 45ms/step - loss: 0.7695 - accuracy: 0.5881 - val_loss: 0.7888 - val_accuracy: 0.5205\n",
            "Epoch 17/70\n",
            "71/71 [==============================] - 3s 42ms/step - loss: 0.7578 - accuracy: 0.5948 - val_loss: 0.8158 - val_accuracy: 0.4957\n",
            "Epoch 18/70\n",
            "71/71 [==============================] - 2s 34ms/step - loss: 0.7430 - accuracy: 0.6038 - val_loss: 0.8087 - val_accuracy: 0.5055\n",
            "Epoch 19/70\n",
            "71/71 [==============================] - 2s 35ms/step - loss: 0.7786 - accuracy: 0.5844 - val_loss: 0.8069 - val_accuracy: 0.4962\n",
            "Epoch 20/70\n",
            "71/71 [==============================] - 2s 35ms/step - loss: 0.7945 - accuracy: 0.5649 - val_loss: 0.7644 - val_accuracy: 0.5165\n",
            "Epoch 21/70\n",
            "71/71 [==============================] - 3s 41ms/step - loss: 0.7408 - accuracy: 0.5727 - val_loss: 0.7637 - val_accuracy: 0.5286\n",
            "Epoch 22/70\n",
            "71/71 [==============================] - 3s 45ms/step - loss: 0.7990 - accuracy: 0.5432 - val_loss: 0.7718 - val_accuracy: 0.4980\n",
            "Epoch 23/70\n",
            "71/71 [==============================] - 2s 34ms/step - loss: 0.8196 - accuracy: 0.5562 - val_loss: 0.7653 - val_accuracy: 0.5292\n",
            "Epoch 24/70\n",
            "71/71 [==============================] - 2s 34ms/step - loss: 0.7376 - accuracy: 0.5570 - val_loss: 0.7411 - val_accuracy: 0.5171\n",
            "Epoch 25/70\n",
            "71/71 [==============================] - 2s 35ms/step - loss: 0.7470 - accuracy: 0.5542 - val_loss: 0.7525 - val_accuracy: 0.5107\n",
            "Epoch 26/70\n",
            "71/71 [==============================] - 3s 37ms/step - loss: 0.7692 - accuracy: 0.5233 - val_loss: 0.7923 - val_accuracy: 0.5171\n",
            "Epoch 27/70\n",
            "71/71 [==============================] - 4s 50ms/step - loss: 0.7588 - accuracy: 0.5107 - val_loss: 0.7373 - val_accuracy: 0.5373\n",
            "Epoch 28/70\n",
            "71/71 [==============================] - 3s 35ms/step - loss: 0.8210 - accuracy: 0.5186 - val_loss: 0.7649 - val_accuracy: 0.5107\n",
            "Epoch 29/70\n",
            "71/71 [==============================] - 2s 35ms/step - loss: 0.7535 - accuracy: 0.5180 - val_loss: 0.7630 - val_accuracy: 0.5113\n",
            "Epoch 30/70\n",
            "71/71 [==============================] - 3s 36ms/step - loss: 0.7891 - accuracy: 0.5110 - val_loss: 0.9742 - val_accuracy: 0.4864\n",
            "Epoch 31/70\n",
            "71/71 [==============================] - 3s 36ms/step - loss: 0.8455 - accuracy: 0.5050 - val_loss: 0.8849 - val_accuracy: 0.5176\n",
            "Epoch 32/70\n",
            "71/71 [==============================] - 4s 50ms/step - loss: 0.7897 - accuracy: 0.5084 - val_loss: 0.7500 - val_accuracy: 0.5194\n",
            "Epoch 33/70\n",
            "71/71 [==============================] - 3s 39ms/step - loss: 0.7479 - accuracy: 0.5097 - val_loss: 0.7301 - val_accuracy: 0.5124\n",
            "Epoch 34/70\n",
            "71/71 [==============================] - 3s 35ms/step - loss: 0.7166 - accuracy: 0.5137 - val_loss: 0.7107 - val_accuracy: 0.5176\n",
            "Epoch 35/70\n",
            "71/71 [==============================] - 2s 35ms/step - loss: 0.7203 - accuracy: 0.5101 - val_loss: 0.7178 - val_accuracy: 0.4945\n",
            "Epoch 36/70\n",
            "71/71 [==============================] - 2s 35ms/step - loss: 0.7213 - accuracy: 0.5148 - val_loss: 0.7350 - val_accuracy: 0.4748\n",
            "Epoch 37/70\n",
            "71/71 [==============================] - 3s 47ms/step - loss: 0.7289 - accuracy: 0.5160 - val_loss: 0.7253 - val_accuracy: 0.5176\n",
            "Epoch 38/70\n",
            "71/71 [==============================] - 3s 40ms/step - loss: 0.7314 - accuracy: 0.5136 - val_loss: 0.7460 - val_accuracy: 0.5176\n",
            "Epoch 39/70\n",
            "71/71 [==============================] - 3s 36ms/step - loss: 0.7406 - accuracy: 0.5138 - val_loss: 0.7277 - val_accuracy: 0.5176\n",
            "Epoch 40/70\n",
            "71/71 [==============================] - 2s 35ms/step - loss: 0.7136 - accuracy: 0.5163 - val_loss: 0.7120 - val_accuracy: 0.5107\n",
            "Epoch 41/70\n",
            "71/71 [==============================] - 3s 35ms/step - loss: 0.7278 - accuracy: 0.5107 - val_loss: 0.7352 - val_accuracy: 0.5147\n",
            "Epoch 42/70\n",
            "71/71 [==============================] - 3s 43ms/step - loss: 0.7279 - accuracy: 0.5201 - val_loss: 0.7395 - val_accuracy: 0.5003\n",
            "Epoch 43/70\n",
            "71/71 [==============================] - 3s 40ms/step - loss: 0.7248 - accuracy: 0.5344 - val_loss: 0.7279 - val_accuracy: 0.5200\n",
            "Epoch 44/70\n",
            "71/71 [==============================] - 2s 34ms/step - loss: 0.7272 - accuracy: 0.5488 - val_loss: 0.7587 - val_accuracy: 0.4777\n",
            "Epoch 45/70\n",
            "71/71 [==============================] - 2s 34ms/step - loss: 0.7850 - accuracy: 0.5248 - val_loss: 0.7671 - val_accuracy: 0.5009\n",
            "Epoch 46/70\n",
            "71/71 [==============================] - 2s 34ms/step - loss: 0.8014 - accuracy: 0.5220 - val_loss: 0.7701 - val_accuracy: 0.5003\n",
            "Epoch 47/70\n",
            "71/71 [==============================] - 3s 42ms/step - loss: 0.7425 - accuracy: 0.5076 - val_loss: 0.7431 - val_accuracy: 0.4829\n",
            "Epoch 48/70\n",
            "71/71 [==============================] - 3s 42ms/step - loss: 0.7429 - accuracy: 0.5111 - val_loss: 0.7541 - val_accuracy: 0.5246\n",
            "Epoch 49/70\n",
            "71/71 [==============================] - 2s 35ms/step - loss: 0.7979 - accuracy: 0.5100 - val_loss: 0.7375 - val_accuracy: 0.5055\n",
            "Epoch 50/70\n",
            "71/71 [==============================] - 2s 35ms/step - loss: 0.7841 - accuracy: 0.5097 - val_loss: 0.7532 - val_accuracy: 0.5153\n",
            "Epoch 51/70\n",
            "71/71 [==============================] - 2s 34ms/step - loss: 0.7911 - accuracy: 0.5148 - val_loss: 0.8114 - val_accuracy: 0.5147\n",
            "Epoch 52/70\n",
            "71/71 [==============================] - 3s 45ms/step - loss: 0.7738 - accuracy: 0.5164 - val_loss: 0.7234 - val_accuracy: 0.5228\n",
            "Epoch 53/70\n",
            "71/71 [==============================] - 3s 45ms/step - loss: 0.9776 - accuracy: 0.5087 - val_loss: 0.8497 - val_accuracy: 0.5176\n",
            "Epoch 54/70\n",
            "71/71 [==============================] - 2s 35ms/step - loss: 0.8158 - accuracy: 0.5154 - val_loss: 0.8652 - val_accuracy: 0.4916\n",
            "Epoch 55/70\n",
            "71/71 [==============================] - 3s 35ms/step - loss: 0.7832 - accuracy: 0.5107 - val_loss: 0.7511 - val_accuracy: 0.5321\n",
            "Epoch 56/70\n",
            "71/71 [==============================] - 2s 35ms/step - loss: 0.8890 - accuracy: 0.5124 - val_loss: 0.8024 - val_accuracy: 0.5176\n",
            "Epoch 57/70\n",
            "71/71 [==============================] - 3s 36ms/step - loss: 0.7645 - accuracy: 0.5004 - val_loss: 0.7593 - val_accuracy: 0.5072\n",
            "Epoch 58/70\n",
            "71/71 [==============================] - 4s 51ms/step - loss: 0.7642 - accuracy: 0.5144 - val_loss: 0.7638 - val_accuracy: 0.5176\n",
            "Epoch 59/70\n",
            "71/71 [==============================] - 3s 35ms/step - loss: 0.8596 - accuracy: 0.5146 - val_loss: 0.8559 - val_accuracy: 0.4824\n",
            "Epoch 60/70\n",
            "71/71 [==============================] - 2s 35ms/step - loss: 0.7596 - accuracy: 0.5183 - val_loss: 0.7303 - val_accuracy: 0.5176\n",
            "Epoch 61/70\n",
            "71/71 [==============================] - 2s 35ms/step - loss: 0.7410 - accuracy: 0.5144 - val_loss: 0.7723 - val_accuracy: 0.4835\n",
            "Epoch 62/70\n",
            "71/71 [==============================] - 2s 35ms/step - loss: 0.7785 - accuracy: 0.5130 - val_loss: 0.8331 - val_accuracy: 0.4928\n",
            "Epoch 63/70\n",
            "71/71 [==============================] - 4s 50ms/step - loss: 1.4786 - accuracy: 0.5106 - val_loss: 1.2211 - val_accuracy: 0.4858\n",
            "Epoch 64/70\n",
            "71/71 [==============================] - 3s 40ms/step - loss: 2.1990 - accuracy: 0.5178 - val_loss: 1.2680 - val_accuracy: 0.5078\n",
            "Epoch 65/70\n",
            "71/71 [==============================] - 2s 35ms/step - loss: 0.9806 - accuracy: 0.5211 - val_loss: 0.8322 - val_accuracy: 0.5176\n",
            "Epoch 66/70\n",
            "71/71 [==============================] - 2s 34ms/step - loss: 0.8253 - accuracy: 0.5278 - val_loss: 0.7953 - val_accuracy: 0.4933\n",
            "Epoch 67/70\n",
            "71/71 [==============================] - 2s 35ms/step - loss: 0.8811 - accuracy: 0.5161 - val_loss: 0.7791 - val_accuracy: 0.5101\n",
            "Epoch 68/70\n",
            "71/71 [==============================] - 3s 48ms/step - loss: 0.7832 - accuracy: 0.5206 - val_loss: 0.7780 - val_accuracy: 0.5176\n",
            "Epoch 69/70\n",
            "71/71 [==============================] - 3s 40ms/step - loss: 0.7657 - accuracy: 0.5124 - val_loss: 0.7940 - val_accuracy: 0.5182\n",
            "Epoch 70/70\n",
            "71/71 [==============================] - 2s 35ms/step - loss: 0.7497 - accuracy: 0.5160 - val_loss: 0.7281 - val_accuracy: 0.5147\n",
            "55/55 [==============================] - 1s 10ms/step - loss: 0.7281 - accuracy: 0.5147\n",
            "Accuracy: 0.5147483944892883\n"
          ]
        }
      ]
    },
    {
      "cell_type": "code",
      "source": [
        "y_prob = model.predict(X_test)"
      ],
      "metadata": {
        "colab": {
          "base_uri": "https://localhost:8080/"
        },
        "id": "r5zYY1q8qk1f",
        "outputId": "919e8aee-f019-4867-f602-c7633cab3918"
      },
      "execution_count": null,
      "outputs": [
        {
          "output_type": "stream",
          "name": "stdout",
          "text": [
            "55/55 [==============================] - 2s 12ms/step\n"
          ]
        }
      ]
    },
    {
      "cell_type": "code",
      "source": [
        "# Summarize history for accuracy\n",
        "plt.plot(history.history['accuracy'])\n",
        "plt.plot(history.history['val_accuracy'])\n",
        "plt.title('Model Accuracy')\n",
        "plt.ylabel('Accuracy')\n",
        "plt.xlabel('Epoch')\n",
        "plt.legend(['Train', 'Validation'], loc='upper left')\n",
        "plt.show()\n",
        "\n",
        "# Summarize history for loss\n",
        "plt.plot(history.history['loss'])\n",
        "plt.plot(history.history['val_loss'])\n",
        "plt.title('Model Loss')\n",
        "plt.ylabel('Loss')\n",
        "plt.xlabel('Epoch')\n",
        "plt.legend(['Train', 'Validation'], loc='upper left')\n",
        "plt.show()"
      ],
      "metadata": {
        "colab": {
          "base_uri": "https://localhost:8080/",
          "height": 927
        },
        "id": "efisP-0Txm4q",
        "outputId": "5d06b3b2-125f-4982-c359-4b4c75625233"
      },
      "execution_count": null,
      "outputs": [
        {
          "output_type": "display_data",
          "data": {
            "text/plain": [
              "<Figure size 640x480 with 1 Axes>"
            ],
            "image/png": "[encoded data removed]"
          },
          "metadata": {}
        },
        {
          "output_type": "display_data",
          "data": {
            "text/plain": [
              "<Figure size 640x480 with 1 Axes>"
            ],
            "image/png": "[encoded data removed]"
          },
          "metadata": {}
        }
      ]
    },
    {
      "cell_type": "code",
      "source": [
        "precision, recall, thresholds = precision_recall_curve(y_test, y_prob)\n",
        "\n",
        "accuracies = []\n",
        "\n",
        "# Calculate F1 scores and accuracy for each threshold\n",
        "f1_scores = []\n",
        "for threshold in thresholds:\n",
        "    y_pred = (y_prob >= threshold).astype(int)\n",
        "    f1_scores.append(f1_score(y_test, y_pred))\n",
        "    accuracies.append(accuracy_score(y_test, y_pred))\n",
        "\n",
        "# Plotting the precision, recall, F1-score, and accuracy as functions of the threshold\n",
        "plt.figure(figsize=(10, 6))\n",
        "plt.plot(thresholds, precision[:-1], 'b--', label='Precision')\n",
        "plt.plot(thresholds, recall[:-1], 'g-', label='Recall')\n",
        "plt.plot(thresholds, f1_scores, 'r-', label='F1 Score')\n",
        "plt.plot(thresholds, accuracies, 'm-', label='Accuracy')\n",
        "plt.xlabel('Threshold')\n",
        "plt.ylabel('Scores')\n",
        "plt.title('Evaluation Metrics at Various Thresholds')\n",
        "plt.legend(loc='best')\n",
        "plt.grid(True)\n",
        "plt.show()"
      ],
      "metadata": {
        "colab": {
          "base_uri": "https://localhost:8080/",
          "height": 564
        },
        "id": "TjTw5Zky9m_w",
        "outputId": "abf221d6-d4c9-4840-f12a-d5be7b6b380a"
      },
      "execution_count": null,
      "outputs": [
        {
          "output_type": "display_data",
          "data": {
            "text/plain": [
              "<Figure size 1000x600 with 1 Axes>"
            ],
            "image/png": "[encoded data removed]"
          },
          "metadata": {}
        }
      ]
    },
    {
      "cell_type": "code",
      "source": [
        "y_pred_binary = np.where(y_prob > 0.5, 1, 0)\n",
        "\n",
        "# Print classification report\n",
        "\n",
        "print('Classification Report:')\n",
        "print(classification_report(y_test, y_pred_binary))"
      ],
      "metadata": {
        "id": "Dj7ro1AfFfX2",
        "colab": {
          "base_uri": "https://localhost:8080/"
        },
        "outputId": "48fdd400-3f02-4847-cdd8-a5abc212f69b"
      },
      "execution_count": null,
      "outputs": [
        {
          "output_type": "stream",
          "name": "stdout",
          "text": [
            "Classification Report:\n",
            "              precision    recall  f1-score   support\n",
            "\n",
            "           0       0.39      0.01      0.02       834\n",
            "           1       0.52      0.98      0.68       895\n",
            "\n",
            "    accuracy                           0.51      1729\n",
            "   macro avg       0.45      0.50      0.35      1729\n",
            "weighted avg       0.46      0.51      0.36      1729\n",
            "\n"
          ]
        }
      ]
    },
    {
      "cell_type": "code",
      "source": [],
      "metadata": {
        "id": "AqJJcn91vEvd"
      },
      "execution_count": null,
      "outputs": []
    }
  ],
  "metadata": {
    "kernelspec": {
      "display_name": "Python 3",
      "name": "python3"
    },
    "language_info": {
      "codemirror_mode": {
        "name": "ipython",
        "version": 3
      },
      "file_extension": ".py",
      "mimetype": "text/x-python",
      "name": "python",
      "nbconvert_exporter": "python",
      "pygments_lexer": "ipython3",
      "version": "3.12.2"
    },
    "colab": {
      "provenance": [],
      "gpuType": "T4"
    },
    "accelerator": "GPU"
  },
  "nbformat": 4,
  "nbformat_minor": 0
}