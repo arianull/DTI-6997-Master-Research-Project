{
 "cells": [
  {
   "cell_type": "code",
   "execution_count": 16,
   "id": "944e9bd7-115d-4776-abab-7ac948f382f1",
   "metadata": {},
   "outputs": [],
   "source": [
    "import os\n",
    "from selenium import webdriver\n",
    "from selenium.webdriver.common.by import By\n",
    "from selenium.webdriver.common.keys import Keys\n",
    "from selenium.webdriver.chrome.service import Service\n",
    "from selenium.webdriver.common.action_chains import ActionChains\n",
    "from selenium.webdriver.chrome.options import Options\n",
    "from selenium.webdriver.support.ui import WebDriverWait\n",
    "from selenium.webdriver.support import expected_conditions as EC\n",
    "from loguru import logger\n",
    "import time\n",
    "import pickle\n",
    "import datetime"
   ]
  },
  {
   "cell_type": "code",
   "execution_count": 18,
   "id": "d0239ea1-8cb8-4185-92d5-27800cd432f7",
   "metadata": {},
   "outputs": [],
   "source": [
    "chrome_options = Options()\n",
    "#chrome_options.add_argument(\"--headless\")  # Run in headless mode. (Finviz does not work when loaded headless)\n",
    "chrome_options.add_argument(\"--disable-gpu\")\n",
    "chrome_options.add_argument(\"--no-sandbox\")"
   ]
  },
  {
   "cell_type": "code",
   "execution_count": 19,
   "id": "7ca792cc-4785-4ca4-81a9-2e9332df0192",
   "metadata": {},
   "outputs": [],
   "source": [
    "# Set the download directory\n",
    "\n",
    "current_directory = os.path.abspath(os.getcwd())\n",
    "\n",
    "prefs = {\n",
    "    \"download.default_directory\": current_directory,\n",
    "    \"download.prompt_for_download\": False,\n",
    "    \"download.directory_upgrade\": True,\n",
    "    \"safebrowsing.enabled\": True\n",
    "}\n",
    "chrome_options.add_experimental_option(\"prefs\", prefs)"
   ]
  },
  {
   "cell_type": "code",
   "execution_count": 41,
   "id": "03935721-ef75-417b-a9fc-aefed48ad9c3",
   "metadata": {},
   "outputs": [],
   "source": [
    "def login(driver, email, password):\n",
    "    driver.get(\"https://finviz.com/login.ashx\")\n",
    "\n",
    "    # Wait for the login page to load completely\n",
    "    wait = WebDriverWait(driver, 120)\n",
    "    wait.until(EC.presence_of_element_located((By.NAME, \"email\")))\n",
    "\n",
    "    # Enter login credentials\n",
    "    email_field = driver.find_element(By.NAME, \"email\")\n",
    "    password_field = driver.find_element(By.NAME, \"password\")\n",
    "    login_button = driver.find_element(By.XPATH, \"//input[@value='Log in']\")\n",
    "\n",
    "    email_field.send_keys(email)  \n",
    "    password_field.send_keys(password)        \n",
    "    login_button.click()\n",
    "\n",
    "    # Wait for the main page to load after login\n",
    "    wait.until(EC.presence_of_element_located((By.ID, \"account-dropdown\")))\n",
    "    \n",
    "    driver.get(\"https://finviz.com/login.ashx\")\n",
    "    # Save cookies to a file\n",
    "    with open(\"cookies.pkl\", \"wb\") as file:\n",
    "        pickle.dump(driver.get_cookies(), file)"
   ]
  },
  {
   "cell_type": "code",
   "execution_count": 42,
   "id": "cd938cca-3cb4-4b23-82ec-03279c41e376",
   "metadata": {},
   "outputs": [],
   "source": [
    "def load_cookies(driver):\n",
    "    driver.get(\"https://finviz.com/login.ashx\")\n",
    "    with open(\"cookies.pkl\", \"rb\") as file:\n",
    "        cookies = pickle.load(file)\n",
    "        for cookie in cookies:\n",
    "            driver.add_cookie(cookie)\n",
    "    driver.refresh()"
   ]
  },
  {
   "cell_type": "code",
   "execution_count": 45,
   "id": "a354e0ed-f236-4d1d-a844-1ef70f636549",
   "metadata": {},
   "outputs": [],
   "source": [
    "driver_path = '/usr/local/bin/chromedriver'\n",
    "service = Service(driver_path)\n",
    "driver = webdriver.Chrome(service=service, options=chrome_options)"
   ]
  },
  {
   "cell_type": "code",
   "execution_count": 47,
   "id": "aea35bbb-b8e0-48fd-9fb4-78929a1b3597",
   "metadata": {},
   "outputs": [
    {
     "name": "stderr",
     "output_type": "stream",
     "text": [
      "\u001b[32m2024-06-17 14:08:43.096\u001b[0m | \u001b[32m\u001b[1mSUCCESS \u001b[0m | \u001b[36m__main__\u001b[0m:\u001b[36mattempt_login\u001b[0m:\u001b[36m6\u001b[0m - \u001b[32m\u001b[1mLogged in with cookies.\u001b[0m\n"
     ]
    }
   ],
   "source": [
    "def attempt_login(driver, email, password):\n",
    "    try:\n",
    "        # Check if cookies file exists\n",
    "        if os.path.exists(\"cookies.pkl\"):\n",
    "            load_cookies(driver)\n",
    "            logger.success(\"Logged in with cookies.\")\n",
    "        else:\n",
    "            raise FileNotFoundError(\"Cookies file does not exist.\")\n",
    "    except Exception as e:\n",
    "        logger.error(f\"Failed to log in with cookies: {e}. Retrying with credentials.\")\n",
    "        login(driver, email, password)\n",
    "        logger.success(\"Logged in with credentials.\")\n",
    "\n",
    "# Usage\n",
    "attempt_login(driver, email, password)"
   ]
  },
  {
   "cell_type": "code",
   "execution_count": 48,
   "id": "8394315c-b6f7-43c4-b480-478ac8ee15a8",
   "metadata": {},
   "outputs": [
    {
     "name": "stderr",
     "output_type": "stream",
     "text": [
      "\u001b[32m2024-06-17 14:09:12.943\u001b[0m | \u001b[1mINFO    \u001b[0m | \u001b[36m__main__\u001b[0m:\u001b[36m<module>\u001b[0m:\u001b[36m5\u001b[0m - \u001b[1mScreener loaded.\u001b[0m\n"
     ]
    }
   ],
   "source": [
    "driver.get(\"https://elite.finviz.com/screener.ashx?v=152&p=i1&f=cap_0.01to,geo_usa|china|france|europe|australia|belgium|canada|chinahongkong|germany|hongkong|iceland|japan|newzealand|ireland|netherlands|norway|singapore|southkorea|sweden|taiwan|unitedarabemirates|unitedkingdom|switzerland|spain,sh_curvol_o100,sh_relvol_o1,ta_change_u&ft=4&o=sharesfloat&ar=10&c=0,1,2,5,6,25,26,27,28,29,30,84,45,50,51,68,60,61,63,64,67,65,66\")\n",
    "\n",
    "wait = WebDriverWait(driver, 50)\n",
    "wait.until(EC.presence_of_element_located((By.ID, \"screener-content\")))\n",
    "logger.info(\"Screener loaded.\")"
   ]
  },
  {
   "cell_type": "code",
   "execution_count": 49,
   "id": "d0af954c-2f94-474b-95a1-19ae88d1bc58",
   "metadata": {},
   "outputs": [
    {
     "name": "stderr",
     "output_type": "stream",
     "text": [
      "\u001b[32m2024-06-17 14:09:16.666\u001b[0m | \u001b[1mINFO    \u001b[0m | \u001b[36m__main__\u001b[0m:\u001b[36m<module>\u001b[0m:\u001b[36m10\u001b[0m - \u001b[1mExport button clicked.\u001b[0m\n",
      "\u001b[32m2024-06-17 14:09:21.669\u001b[0m | \u001b[1mINFO    \u001b[0m | \u001b[36m__main__\u001b[0m:\u001b[36m<module>\u001b[0m:\u001b[36m25\u001b[0m - \u001b[1mFile renamed to: finviz_data_20240617_140921.csv\u001b[0m\n",
      "\u001b[32m2024-06-17 14:09:21.670\u001b[0m | \u001b[32m\u001b[1mSUCCESS \u001b[0m | \u001b[36m__main__\u001b[0m:\u001b[36m<module>\u001b[0m:\u001b[36m26\u001b[0m - \u001b[32m\u001b[1mFiles downloaded to: /Users/arianshf/Desktop/Research Code\u001b[0m\n"
     ]
    }
   ],
   "source": [
    "before_download = set(os.listdir(current_directory))\n",
    "downloaded_files = {}\n",
    "retry_no = 1\n",
    "\n",
    "try:\n",
    "    while len(downloaded_files) == 0 : \n",
    "        export_button = wait.until(EC.element_to_be_clickable((By.XPATH, \"//a[contains(@href, 'export.ashx')]\")))\n",
    "        actions = ActionChains(driver)\n",
    "        actions.move_to_element(export_button).click().perform()\n",
    "        logger.info(\"Export button clicked.\")\n",
    "        # Sleep to allow time for download to complete\n",
    "        time.sleep(5)\n",
    "        # List all files in the directory after download\n",
    "        after_download = set(os.listdir(current_directory))\n",
    "        downloaded_files = after_download - before_download\n",
    "        \n",
    "        if len(downloaded_files) >= 1:\n",
    "            downloaded_file = downloaded_files.pop()\n",
    "            # Rename the downloaded file with current date and time\n",
    "            current_time = datetime.datetime.now().strftime(\"%Y%m%d_%H%M%S\")\n",
    "            new_file_name = f\"finviz_data_{current_time}.csv\"\n",
    "            old_file_path = os.path.join(current_directory, downloaded_file)\n",
    "            new_file_path = os.path.join(current_directory, new_file_name)\n",
    "            os.rename(old_file_path, new_file_path)\n",
    "            logger.info(f\"File renamed to: {new_file_name}\")\n",
    "            logger.success(f\"Files downloaded to: {current_directory}\")\n",
    "            break\n",
    "        else:\n",
    "            logger.error(\"Download failed or multiple files downloaded.\")\n",
    "            if retry_no == 6:\n",
    "                print(\"Retried 5 times and failed.\")\n",
    "                break\n",
    "            logger.warning(f\"Retrying... [{retry_no}/5]\")\n",
    "            retry_no = retry_no = retry_no + 1\n",
    "            \n",
    "except Exception as e:\n",
    "    logger.error(\"Failed to find the export button:\", e)\n",
    "\n",
    "# Close the browser\n",
    "driver.quit()"
   ]
  },
  {
   "cell_type": "code",
   "execution_count": null,
   "id": "2267d8c5-7cbf-4d64-a429-6d98ae5b3c7e",
   "metadata": {},
   "outputs": [],
   "source": []
  }
 ],
 "metadata": {
  "kernelspec": {
   "display_name": "Python 3 (ipykernel)",
   "language": "python",
   "name": "python3"
  },
  "language_info": {
   "codemirror_mode": {
    "name": "ipython",
    "version": 3
   },
   "file_extension": ".py",
   "mimetype": "text/x-python",
   "name": "python",
   "nbconvert_exporter": "python",
   "pygments_lexer": "ipython3",
   "version": "3.12.2"
  }
 },
 "nbformat": 4,
 "nbformat_minor": 5
}
